{
 "cells": [
  {
   "cell_type": "code",
   "execution_count": 1,
   "id": "b918c579",
   "metadata": {
    "ExecuteTime": {
     "end_time": "2022-05-19T07:24:36.232419Z",
     "start_time": "2022-05-19T07:24:35.292942Z"
    }
   },
   "outputs": [],
   "source": [
    "import numpy as np\n",
    "import matplotlib.pyplot as plt\n",
    "import seaborn as sns\n",
    "import pandas as pd\n",
    "\n",
    "%matplotlib inline"
   ]
  },
  {
   "cell_type": "code",
   "execution_count": 2,
   "id": "c5391ddf",
   "metadata": {
    "ExecuteTime": {
     "end_time": "2022-05-19T07:25:36.211649Z",
     "start_time": "2022-05-19T07:25:35.890612Z"
    }
   },
   "outputs": [
    {
     "ename": "NameError",
     "evalue": "name 'matplotilb' is not defined",
     "output_type": "error",
     "traceback": [
      "\u001b[1;31m---------------------------------------------------------------------------\u001b[0m",
      "\u001b[1;31mNameError\u001b[0m                                 Traceback (most recent call last)",
      "Input \u001b[1;32mIn [2]\u001b[0m, in \u001b[0;36m<cell line: 1>\u001b[1;34m()\u001b[0m\n\u001b[1;32m----> 1\u001b[0m \u001b[38;5;28mprint\u001b[39m(\u001b[43mmatplotilb\u001b[49m\u001b[38;5;241m.\u001b[39m__version__)\n",
      "\u001b[1;31mNameError\u001b[0m: name 'matplotilb' is not defined"
     ]
    }
   ],
   "source": [
    "print(matplotilb.__version__)"
   ]
  },
  {
   "cell_type": "markdown",
   "id": "4eb02507",
   "metadata": {},
   "source": [
    "# 데이터 불러오기"
   ]
  },
  {
   "cell_type": "code",
   "execution_count": 2,
   "id": "35d9be13",
   "metadata": {
    "ExecuteTime": {
     "end_time": "2022-05-18T00:05:35.082611Z",
     "start_time": "2022-05-18T00:05:22.022194Z"
    }
   },
   "outputs": [],
   "source": [
    "df = pd.read_excel(\"데이터분석프로젝트_VER2_210329_210926.xlsx\")"
   ]
  },
  {
   "cell_type": "code",
   "execution_count": 3,
   "id": "f390078b",
   "metadata": {
    "ExecuteTime": {
     "end_time": "2022-05-18T00:05:35.128559Z",
     "start_time": "2022-05-18T00:05:35.082968Z"
    }
   },
   "outputs": [
    {
     "data": {
      "text/html": [
       "<div>\n",
       "<style scoped>\n",
       "    .dataframe tbody tr th:only-of-type {\n",
       "        vertical-align: middle;\n",
       "    }\n",
       "\n",
       "    .dataframe tbody tr th {\n",
       "        vertical-align: top;\n",
       "    }\n",
       "\n",
       "    .dataframe thead th {\n",
       "        text-align: right;\n",
       "    }\n",
       "</style>\n",
       "<table border=\"1\" class=\"dataframe\">\n",
       "  <thead>\n",
       "    <tr style=\"text-align: right;\">\n",
       "      <th></th>\n",
       "      <th>id</th>\n",
       "      <th>customer_id</th>\n",
       "      <th>course_id</th>\n",
       "      <th>type</th>\n",
       "      <th>state</th>\n",
       "      <th>course_title</th>\n",
       "      <th>category_title</th>\n",
       "      <th>format</th>\n",
       "      <th>completed_at</th>\n",
       "      <th>transaction_amount</th>\n",
       "      <th>coupon_title</th>\n",
       "      <th>coupon_discount_amount</th>\n",
       "      <th>sale_price</th>\n",
       "      <th>tax_free_amount</th>\n",
       "      <th>pg</th>\n",
       "      <th>method</th>\n",
       "      <th>subcategory_title</th>\n",
       "      <th>marketing_start_at</th>\n",
       "    </tr>\n",
       "  </thead>\n",
       "  <tbody>\n",
       "    <tr>\n",
       "      <th>0</th>\n",
       "      <td>970634</td>\n",
       "      <td>504760.0</td>\n",
       "      <td>201435.0</td>\n",
       "      <td>ORDER</td>\n",
       "      <td>CANCELLED</td>\n",
       "      <td>올인원 패키지 : 알고리즘 기술면접 완전 정복</td>\n",
       "      <td>프로그래밍</td>\n",
       "      <td>올인원</td>\n",
       "      <td>2021-03-28 15:00:11</td>\n",
       "      <td>90500</td>\n",
       "      <td>NaN</td>\n",
       "      <td>NaN</td>\n",
       "      <td>110500.0</td>\n",
       "      <td>110500.0</td>\n",
       "      <td>NaN</td>\n",
       "      <td>VBANK</td>\n",
       "      <td>개발자 커리어</td>\n",
       "      <td>NaT</td>\n",
       "    </tr>\n",
       "    <tr>\n",
       "      <th>1</th>\n",
       "      <td>970650</td>\n",
       "      <td>432862.0</td>\n",
       "      <td>203178.0</td>\n",
       "      <td>ORDER</td>\n",
       "      <td>CANCELLED</td>\n",
       "      <td>초격차 패키지 : 한번에 끝내는 영상 촬영과 편집</td>\n",
       "      <td>영상/3D</td>\n",
       "      <td>올인원</td>\n",
       "      <td>2021-03-28 15:16:53</td>\n",
       "      <td>96000</td>\n",
       "      <td>NaN</td>\n",
       "      <td>NaN</td>\n",
       "      <td>116000.0</td>\n",
       "      <td>116000.0</td>\n",
       "      <td>NaN</td>\n",
       "      <td>CARD</td>\n",
       "      <td>영상 편집</td>\n",
       "      <td>2020-12-02</td>\n",
       "    </tr>\n",
       "    <tr>\n",
       "      <th>2</th>\n",
       "      <td>970657</td>\n",
       "      <td>72297.0</td>\n",
       "      <td>204246.0</td>\n",
       "      <td>PAYMENT</td>\n",
       "      <td>COMPLETED</td>\n",
       "      <td>시크릿코드 : 프론트엔드 실무 완성편</td>\n",
       "      <td>프로그래밍</td>\n",
       "      <td>스쿨 온라인</td>\n",
       "      <td>2021-03-28 15:21:43</td>\n",
       "      <td>171810</td>\n",
       "      <td>[10% 할인] 시크릿코드 실무 완성편</td>\n",
       "      <td>19090.0</td>\n",
       "      <td>190900.0</td>\n",
       "      <td>190900.0</td>\n",
       "      <td>NaN</td>\n",
       "      <td>CARD</td>\n",
       "      <td>NaN</td>\n",
       "      <td>2021-03-04</td>\n",
       "    </tr>\n",
       "    <tr>\n",
       "      <th>3</th>\n",
       "      <td>970656</td>\n",
       "      <td>72297.0</td>\n",
       "      <td>204246.0</td>\n",
       "      <td>ORDER</td>\n",
       "      <td>CANCELLED</td>\n",
       "      <td>시크릿코드 : 프론트엔드 실무 완성편</td>\n",
       "      <td>프로그래밍</td>\n",
       "      <td>스쿨 온라인</td>\n",
       "      <td>2021-03-28 15:21:43</td>\n",
       "      <td>171810</td>\n",
       "      <td>NaN</td>\n",
       "      <td>NaN</td>\n",
       "      <td>190900.0</td>\n",
       "      <td>190900.0</td>\n",
       "      <td>NaN</td>\n",
       "      <td>CARD</td>\n",
       "      <td>NaN</td>\n",
       "      <td>2021-03-04</td>\n",
       "    </tr>\n",
       "    <tr>\n",
       "      <th>4</th>\n",
       "      <td>970658</td>\n",
       "      <td>478028.0</td>\n",
       "      <td>201797.0</td>\n",
       "      <td>PAYMENT</td>\n",
       "      <td>COMPLETED</td>\n",
       "      <td>올인원 패키지 : 직장인 필수 스킬 3종 세트 MAX</td>\n",
       "      <td>업무 생산성</td>\n",
       "      <td>올인원</td>\n",
       "      <td>2021-03-28 15:21:54</td>\n",
       "      <td>97500</td>\n",
       "      <td>[웰컴쿠폰] 올인원 패키지 2만원 할인 쿠폰</td>\n",
       "      <td>20000.0</td>\n",
       "      <td>117500.0</td>\n",
       "      <td>117500.0</td>\n",
       "      <td>NaN</td>\n",
       "      <td>CARD</td>\n",
       "      <td>PPT/보고서</td>\n",
       "      <td>2019-11-14</td>\n",
       "    </tr>\n",
       "  </tbody>\n",
       "</table>\n",
       "</div>"
      ],
      "text/plain": [
       "       id  customer_id  course_id     type      state  \\\n",
       "0  970634     504760.0   201435.0    ORDER  CANCELLED   \n",
       "1  970650     432862.0   203178.0    ORDER  CANCELLED   \n",
       "2  970657      72297.0   204246.0  PAYMENT  COMPLETED   \n",
       "3  970656      72297.0   204246.0    ORDER  CANCELLED   \n",
       "4  970658     478028.0   201797.0  PAYMENT  COMPLETED   \n",
       "\n",
       "                    course_title category_title  format        completed_at  \\\n",
       "0      올인원 패키지 : 알고리즘 기술면접 완전 정복          프로그래밍     올인원 2021-03-28 15:00:11   \n",
       "1    초격차 패키지 : 한번에 끝내는 영상 촬영과 편집          영상/3D     올인원 2021-03-28 15:16:53   \n",
       "2           시크릿코드 : 프론트엔드 실무 완성편          프로그래밍  스쿨 온라인 2021-03-28 15:21:43   \n",
       "3           시크릿코드 : 프론트엔드 실무 완성편          프로그래밍  스쿨 온라인 2021-03-28 15:21:43   \n",
       "4  올인원 패키지 : 직장인 필수 스킬 3종 세트 MAX         업무 생산성     올인원 2021-03-28 15:21:54   \n",
       "\n",
       "   transaction_amount              coupon_title  coupon_discount_amount  \\\n",
       "0               90500                       NaN                     NaN   \n",
       "1               96000                       NaN                     NaN   \n",
       "2              171810     [10% 할인] 시크릿코드 실무 완성편                 19090.0   \n",
       "3              171810                       NaN                     NaN   \n",
       "4               97500  [웰컴쿠폰] 올인원 패키지 2만원 할인 쿠폰                 20000.0   \n",
       "\n",
       "   sale_price  tax_free_amount   pg method subcategory_title  \\\n",
       "0    110500.0         110500.0  NaN  VBANK           개발자 커리어   \n",
       "1    116000.0         116000.0  NaN   CARD             영상 편집   \n",
       "2    190900.0         190900.0  NaN   CARD               NaN   \n",
       "3    190900.0         190900.0  NaN   CARD               NaN   \n",
       "4    117500.0         117500.0  NaN   CARD           PPT/보고서   \n",
       "\n",
       "  marketing_start_at  \n",
       "0                NaT  \n",
       "1         2020-12-02  \n",
       "2         2021-03-04  \n",
       "3         2021-03-04  \n",
       "4         2019-11-14  "
      ]
     },
     "execution_count": 3,
     "metadata": {},
     "output_type": "execute_result"
    }
   ],
   "source": [
    "df.head()"
   ]
  },
  {
   "cell_type": "code",
   "execution_count": 4,
   "id": "ea10c53f",
   "metadata": {
    "ExecuteTime": {
     "end_time": "2022-05-18T00:05:35.207556Z",
     "start_time": "2022-05-18T00:05:35.129556Z"
    }
   },
   "outputs": [
    {
     "name": "stdout",
     "output_type": "stream",
     "text": [
      "<class 'pandas.core.frame.DataFrame'>\n",
      "RangeIndex: 105419 entries, 0 to 105418\n",
      "Data columns (total 18 columns):\n",
      " #   Column                  Non-Null Count   Dtype         \n",
      "---  ------                  --------------   -----         \n",
      " 0   id                      105419 non-null  int64         \n",
      " 1   customer_id             105416 non-null  float64       \n",
      " 2   course_id               100212 non-null  float64       \n",
      " 3   type                    105419 non-null  object        \n",
      " 4   state                   105419 non-null  object        \n",
      " 5   course_title            105403 non-null  object        \n",
      " 6   category_title          105395 non-null  object        \n",
      " 7   format                  105403 non-null  object        \n",
      " 8   completed_at            105419 non-null  datetime64[ns]\n",
      " 9   transaction_amount      105419 non-null  int64         \n",
      " 10  coupon_title            31817 non-null   object        \n",
      " 11  coupon_discount_amount  31817 non-null   float64       \n",
      " 12  sale_price              104291 non-null  float64       \n",
      " 13  tax_free_amount         104291 non-null  float64       \n",
      " 14  pg                      90344 non-null   object        \n",
      " 15  method                  92323 non-null   object        \n",
      " 16  subcategory_title       85590 non-null   object        \n",
      " 17  marketing_start_at      87440 non-null   datetime64[ns]\n",
      "dtypes: datetime64[ns](2), float64(5), int64(2), object(9)\n",
      "memory usage: 14.5+ MB\n"
     ]
    }
   ],
   "source": [
    "df.info()"
   ]
  },
  {
   "cell_type": "markdown",
   "id": "fdab351c",
   "metadata": {},
   "source": [
    "# 결측치 처리"
   ]
  },
  {
   "cell_type": "code",
   "execution_count": 5,
   "id": "4720dd07",
   "metadata": {
    "ExecuteTime": {
     "end_time": "2022-05-18T00:05:35.223499Z",
     "start_time": "2022-05-18T00:05:35.208549Z"
    }
   },
   "outputs": [
    {
     "data": {
      "text/plain": [
       "0         110500.0\n",
       "1         116000.0\n",
       "2         190900.0\n",
       "3         190900.0\n",
       "4         117500.0\n",
       "            ...   \n",
       "105414    116000.0\n",
       "105415    189000.0\n",
       "105416    116000.0\n",
       "105417    189000.0\n",
       "105418    169000.0\n",
       "Name: tax_free_amount, Length: 105419, dtype: float64"
      ]
     },
     "execution_count": 5,
     "metadata": {},
     "output_type": "execute_result"
    }
   ],
   "source": [
    "# 필요없는 tax_free_amount 열 삭제\n",
    "\n",
    "df.pop('tax_free_amount')"
   ]
  },
  {
   "cell_type": "code",
   "execution_count": 6,
   "id": "c17bedcd",
   "metadata": {
    "ExecuteTime": {
     "end_time": "2022-05-18T00:05:35.254449Z",
     "start_time": "2022-05-18T00:05:35.224497Z"
    }
   },
   "outputs": [],
   "source": [
    "# 무시해도 되는 값 삭제\n",
    "\n",
    "df = df.query('(type != \"ORDER\") & (type != \"TRANSACTION\") & (state != \"PENDING\") & (state != \"CANCELLED\") & (state != \"HIDDEN\") & (state != \"DELETED\")')"
   ]
  },
  {
   "cell_type": "code",
   "execution_count": 7,
   "id": "f1d26bb1",
   "metadata": {
    "ExecuteTime": {
     "end_time": "2022-05-18T00:05:35.302343Z",
     "start_time": "2022-05-18T00:05:35.255394Z"
    }
   },
   "outputs": [
    {
     "name": "stdout",
     "output_type": "stream",
     "text": [
      "<class 'pandas.core.frame.DataFrame'>\n",
      "Int64Index: 56738 entries, 2 to 105418\n",
      "Data columns (total 17 columns):\n",
      " #   Column                  Non-Null Count  Dtype         \n",
      "---  ------                  --------------  -----         \n",
      " 0   id                      56738 non-null  int64         \n",
      " 1   customer_id             56738 non-null  float64       \n",
      " 2   course_id               54582 non-null  float64       \n",
      " 3   type                    56738 non-null  object        \n",
      " 4   state                   56738 non-null  object        \n",
      " 5   course_title            56737 non-null  object        \n",
      " 6   category_title          56734 non-null  object        \n",
      " 7   format                  56737 non-null  object        \n",
      " 8   completed_at            56738 non-null  datetime64[ns]\n",
      " 9   transaction_amount      56738 non-null  int64         \n",
      " 10  coupon_title            23763 non-null  object        \n",
      " 11  coupon_discount_amount  23763 non-null  float64       \n",
      " 12  sale_price              55658 non-null  float64       \n",
      " 13  pg                      46387 non-null  object        \n",
      " 14  method                  56734 non-null  object        \n",
      " 15  subcategory_title       46431 non-null  object        \n",
      " 16  marketing_start_at      46683 non-null  datetime64[ns]\n",
      "dtypes: datetime64[ns](2), float64(4), int64(2), object(9)\n",
      "memory usage: 7.8+ MB\n"
     ]
    }
   ],
   "source": [
    "# 잘 삭제되었는지 확인\n",
    "\n",
    "df.info()"
   ]
  },
  {
   "cell_type": "code",
   "execution_count": 8,
   "id": "ae8dc056",
   "metadata": {
    "ExecuteTime": {
     "end_time": "2022-05-18T00:05:35.318314Z",
     "start_time": "2022-05-18T00:05:35.303340Z"
    }
   },
   "outputs": [],
   "source": [
    "# course_id 채우기\n",
    "\n",
    "df = df.fillna({'course_id':111111})"
   ]
  },
  {
   "cell_type": "code",
   "execution_count": 9,
   "id": "da6c09d8",
   "metadata": {
    "ExecuteTime": {
     "end_time": "2022-05-18T00:05:35.366154Z",
     "start_time": "2022-05-18T00:05:35.319312Z"
    }
   },
   "outputs": [
    {
     "name": "stdout",
     "output_type": "stream",
     "text": [
      "<class 'pandas.core.frame.DataFrame'>\n",
      "Int64Index: 56738 entries, 2 to 105418\n",
      "Data columns (total 17 columns):\n",
      " #   Column                  Non-Null Count  Dtype         \n",
      "---  ------                  --------------  -----         \n",
      " 0   id                      56738 non-null  int64         \n",
      " 1   customer_id             56738 non-null  float64       \n",
      " 2   course_id               56738 non-null  float64       \n",
      " 3   type                    56738 non-null  object        \n",
      " 4   state                   56738 non-null  object        \n",
      " 5   course_title            56737 non-null  object        \n",
      " 6   category_title          56734 non-null  object        \n",
      " 7   format                  56737 non-null  object        \n",
      " 8   completed_at            56738 non-null  datetime64[ns]\n",
      " 9   transaction_amount      56738 non-null  int64         \n",
      " 10  coupon_title            23763 non-null  object        \n",
      " 11  coupon_discount_amount  23763 non-null  float64       \n",
      " 12  sale_price              55658 non-null  float64       \n",
      " 13  pg                      46387 non-null  object        \n",
      " 14  method                  56734 non-null  object        \n",
      " 15  subcategory_title       46431 non-null  object        \n",
      " 16  marketing_start_at      46683 non-null  datetime64[ns]\n",
      "dtypes: datetime64[ns](2), float64(4), int64(2), object(9)\n",
      "memory usage: 7.8+ MB\n"
     ]
    }
   ],
   "source": [
    "df.info()"
   ]
  },
  {
   "cell_type": "markdown",
   "id": "bfd162b3",
   "metadata": {},
   "source": [
    "# 구매한 월/요일/시간대별 분석"
   ]
  },
  {
   "cell_type": "markdown",
   "id": "ccfb7fab",
   "metadata": {},
   "source": [
    "## 월별 분석"
   ]
  },
  {
   "cell_type": "code",
   "execution_count": 10,
   "id": "2289344f",
   "metadata": {
    "ExecuteTime": {
     "end_time": "2022-05-18T00:05:35.382142Z",
     "start_time": "2022-05-18T00:05:35.368147Z"
    }
   },
   "outputs": [],
   "source": [
    "df_complete = df.copy()[['id','customer_id','course_id','type','state','course_title','category_title','format','transaction_amount','coupon_title','coupon_discount_amount','sale_price','completed_at']]"
   ]
  },
  {
   "cell_type": "code",
   "execution_count": 11,
   "id": "99c01d3b",
   "metadata": {
    "ExecuteTime": {
     "end_time": "2022-05-18T00:05:35.398088Z",
     "start_time": "2022-05-18T00:05:35.383138Z"
    }
   },
   "outputs": [
    {
     "data": {
      "text/html": [
       "<div>\n",
       "<style scoped>\n",
       "    .dataframe tbody tr th:only-of-type {\n",
       "        vertical-align: middle;\n",
       "    }\n",
       "\n",
       "    .dataframe tbody tr th {\n",
       "        vertical-align: top;\n",
       "    }\n",
       "\n",
       "    .dataframe thead th {\n",
       "        text-align: right;\n",
       "    }\n",
       "</style>\n",
       "<table border=\"1\" class=\"dataframe\">\n",
       "  <thead>\n",
       "    <tr style=\"text-align: right;\">\n",
       "      <th></th>\n",
       "      <th>id</th>\n",
       "      <th>customer_id</th>\n",
       "      <th>course_id</th>\n",
       "      <th>type</th>\n",
       "      <th>state</th>\n",
       "      <th>course_title</th>\n",
       "      <th>category_title</th>\n",
       "      <th>format</th>\n",
       "      <th>transaction_amount</th>\n",
       "      <th>coupon_title</th>\n",
       "      <th>coupon_discount_amount</th>\n",
       "      <th>sale_price</th>\n",
       "      <th>completed_at</th>\n",
       "    </tr>\n",
       "  </thead>\n",
       "  <tbody>\n",
       "    <tr>\n",
       "      <th>2</th>\n",
       "      <td>970657</td>\n",
       "      <td>72297.0</td>\n",
       "      <td>204246.0</td>\n",
       "      <td>PAYMENT</td>\n",
       "      <td>COMPLETED</td>\n",
       "      <td>시크릿코드 : 프론트엔드 실무 완성편</td>\n",
       "      <td>프로그래밍</td>\n",
       "      <td>스쿨 온라인</td>\n",
       "      <td>171810</td>\n",
       "      <td>[10% 할인] 시크릿코드 실무 완성편</td>\n",
       "      <td>19090.0</td>\n",
       "      <td>190900.0</td>\n",
       "      <td>2021-03-28 15:21:43</td>\n",
       "    </tr>\n",
       "    <tr>\n",
       "      <th>4</th>\n",
       "      <td>970658</td>\n",
       "      <td>478028.0</td>\n",
       "      <td>201797.0</td>\n",
       "      <td>PAYMENT</td>\n",
       "      <td>COMPLETED</td>\n",
       "      <td>올인원 패키지 : 직장인 필수 스킬 3종 세트 MAX</td>\n",
       "      <td>업무 생산성</td>\n",
       "      <td>올인원</td>\n",
       "      <td>97500</td>\n",
       "      <td>[웰컴쿠폰] 올인원 패키지 2만원 할인 쿠폰</td>\n",
       "      <td>20000.0</td>\n",
       "      <td>117500.0</td>\n",
       "      <td>2021-03-28 15:21:54</td>\n",
       "    </tr>\n",
       "    <tr>\n",
       "      <th>8</th>\n",
       "      <td>970669</td>\n",
       "      <td>478033.0</td>\n",
       "      <td>203178.0</td>\n",
       "      <td>PAYMENT</td>\n",
       "      <td>COMPLETED</td>\n",
       "      <td>초격차 패키지 : 한번에 끝내는 영상 촬영과 편집</td>\n",
       "      <td>영상/3D</td>\n",
       "      <td>올인원</td>\n",
       "      <td>96000</td>\n",
       "      <td>[웰컴쿠폰] 올인원 패키지 2만원 할인 쿠폰</td>\n",
       "      <td>20000.0</td>\n",
       "      <td>116000.0</td>\n",
       "      <td>2021-03-28 15:26:47</td>\n",
       "    </tr>\n",
       "    <tr>\n",
       "      <th>10</th>\n",
       "      <td>970671</td>\n",
       "      <td>469860.0</td>\n",
       "      <td>203644.0</td>\n",
       "      <td>PAYMENT</td>\n",
       "      <td>COMPLETED</td>\n",
       "      <td>올인원 패키지 : 권오상의 금융 아카데미 - 권오상의 재무제표 분석 기초(평생소장)</td>\n",
       "      <td>부동산/금융</td>\n",
       "      <td>올인원</td>\n",
       "      <td>263000</td>\n",
       "      <td>NaN</td>\n",
       "      <td>NaN</td>\n",
       "      <td>263000.0</td>\n",
       "      <td>2021-03-28 15:27:17</td>\n",
       "    </tr>\n",
       "    <tr>\n",
       "      <th>14</th>\n",
       "      <td>970676</td>\n",
       "      <td>478035.0</td>\n",
       "      <td>203720.0</td>\n",
       "      <td>PAYMENT</td>\n",
       "      <td>COMPLETED</td>\n",
       "      <td>초격차 패키지 : 한 번에 끝내는 프론트엔드 개발</td>\n",
       "      <td>프로그래밍</td>\n",
       "      <td>올인원</td>\n",
       "      <td>91000</td>\n",
       "      <td>[웰컴쿠폰] 올인원 패키지 2만원 할인 쿠폰</td>\n",
       "      <td>20000.0</td>\n",
       "      <td>111000.0</td>\n",
       "      <td>2021-03-28 15:31:01</td>\n",
       "    </tr>\n",
       "  </tbody>\n",
       "</table>\n",
       "</div>"
      ],
      "text/plain": [
       "        id  customer_id  course_id     type      state  \\\n",
       "2   970657      72297.0   204246.0  PAYMENT  COMPLETED   \n",
       "4   970658     478028.0   201797.0  PAYMENT  COMPLETED   \n",
       "8   970669     478033.0   203178.0  PAYMENT  COMPLETED   \n",
       "10  970671     469860.0   203644.0  PAYMENT  COMPLETED   \n",
       "14  970676     478035.0   203720.0  PAYMENT  COMPLETED   \n",
       "\n",
       "                                      course_title category_title  format  \\\n",
       "2                             시크릿코드 : 프론트엔드 실무 완성편          프로그래밍  스쿨 온라인   \n",
       "4                    올인원 패키지 : 직장인 필수 스킬 3종 세트 MAX         업무 생산성     올인원   \n",
       "8                      초격차 패키지 : 한번에 끝내는 영상 촬영과 편집          영상/3D     올인원   \n",
       "10  올인원 패키지 : 권오상의 금융 아카데미 - 권오상의 재무제표 분석 기초(평생소장)         부동산/금융     올인원   \n",
       "14                     초격차 패키지 : 한 번에 끝내는 프론트엔드 개발          프로그래밍     올인원   \n",
       "\n",
       "    transaction_amount              coupon_title  coupon_discount_amount  \\\n",
       "2               171810     [10% 할인] 시크릿코드 실무 완성편                 19090.0   \n",
       "4                97500  [웰컴쿠폰] 올인원 패키지 2만원 할인 쿠폰                 20000.0   \n",
       "8                96000  [웰컴쿠폰] 올인원 패키지 2만원 할인 쿠폰                 20000.0   \n",
       "10              263000                       NaN                     NaN   \n",
       "14               91000  [웰컴쿠폰] 올인원 패키지 2만원 할인 쿠폰                 20000.0   \n",
       "\n",
       "    sale_price        completed_at  \n",
       "2     190900.0 2021-03-28 15:21:43  \n",
       "4     117500.0 2021-03-28 15:21:54  \n",
       "8     116000.0 2021-03-28 15:26:47  \n",
       "10    263000.0 2021-03-28 15:27:17  \n",
       "14    111000.0 2021-03-28 15:31:01  "
      ]
     },
     "execution_count": 11,
     "metadata": {},
     "output_type": "execute_result"
    }
   ],
   "source": [
    "df_complete.head()"
   ]
  },
  {
   "cell_type": "code",
   "execution_count": 12,
   "id": "75da399a",
   "metadata": {
    "ExecuteTime": {
     "end_time": "2022-05-18T00:05:35.427991Z",
     "start_time": "2022-05-18T00:05:35.399085Z"
    }
   },
   "outputs": [],
   "source": [
    "# '월' 기준\n",
    "def month(x):\n",
    "    if x==1:\n",
    "        return '1'\n",
    "    elif x==2:\n",
    "        return '2'\n",
    "    elif x==3:\n",
    "        return '3'\n",
    "    elif x==4:\n",
    "        return '4'\n",
    "    elif x==5:\n",
    "        return '5'\n",
    "    elif x==6:\n",
    "        return '6'\n",
    "    elif x==7:\n",
    "        return '7'\n",
    "    elif x==8:\n",
    "        return '8'\n",
    "    elif x==9:\n",
    "        return '9'\n",
    "    elif x==10:\n",
    "        return '10'\n",
    "    elif x==11:\n",
    "        return '11'   \n",
    "    else:\n",
    "        return '12'\n",
    "df_complete['completed_at_month'] = df_complete.completed_at.dt.month.map(month)"
   ]
  },
  {
   "cell_type": "code",
   "execution_count": 13,
   "id": "06fdbe9e",
   "metadata": {
    "ExecuteTime": {
     "end_time": "2022-05-18T00:05:35.442946Z",
     "start_time": "2022-05-18T00:05:35.428986Z"
    }
   },
   "outputs": [
    {
     "data": {
      "text/plain": [
       "5    10067\n",
       "8    10038\n",
       "4     9659\n",
       "6     9445\n",
       "7     8919\n",
       "9     6244\n",
       "3     2366\n",
       "Name: completed_at_month, dtype: int64"
      ]
     },
     "execution_count": 13,
     "metadata": {},
     "output_type": "execute_result"
    }
   ],
   "source": [
    "df_complete.completed_at_month.value_counts()"
   ]
  },
  {
   "cell_type": "code",
   "execution_count": 14,
   "id": "1d79011a",
   "metadata": {
    "ExecuteTime": {
     "end_time": "2022-05-18T00:05:35.632206Z",
     "start_time": "2022-05-18T00:05:35.443939Z"
    }
   },
   "outputs": [
    {
     "data": {
      "image/png": "[encoded data removed]",
      "text/plain": [
       "<Figure size 720x720 with 1 Axes>"
      ]
     },
     "metadata": {
      "needs_background": "light"
     },
     "output_type": "display_data"
    }
   ],
   "source": [
    "parameters = {'xtick.labelsize':15,\n",
    "             'ytick.labelsize':15,\n",
    "             'axes.labelsize':15}\n",
    "plt.rcParams.update(parameters)\n",
    "\n",
    "plt.figure(figsize=(10,10))\n",
    "sns.countplot(data=df_complete, x='completed_at_month', order=df_complete['completed_at_month'].value_counts().index ,palette='Set2')\n",
    "plt.show()"
   ]
  },
  {
   "cell_type": "code",
   "execution_count": 15,
   "id": "79068713",
   "metadata": {
    "ExecuteTime": {
     "end_time": "2022-05-18T00:05:35.663134Z",
     "start_time": "2022-05-18T00:05:35.633203Z"
    }
   },
   "outputs": [
    {
     "data": {
      "text/html": [
       "<div>\n",
       "<style scoped>\n",
       "    .dataframe tbody tr th:only-of-type {\n",
       "        vertical-align: middle;\n",
       "    }\n",
       "\n",
       "    .dataframe tbody tr th {\n",
       "        vertical-align: top;\n",
       "    }\n",
       "\n",
       "    .dataframe thead th {\n",
       "        text-align: right;\n",
       "    }\n",
       "</style>\n",
       "<table border=\"1\" class=\"dataframe\">\n",
       "  <thead>\n",
       "    <tr style=\"text-align: right;\">\n",
       "      <th></th>\n",
       "      <th></th>\n",
       "      <th>transaction_amount</th>\n",
       "    </tr>\n",
       "    <tr>\n",
       "      <th>completed_at_month</th>\n",
       "      <th>type</th>\n",
       "      <th></th>\n",
       "    </tr>\n",
       "  </thead>\n",
       "  <tbody>\n",
       "    <tr>\n",
       "      <th rowspan=\"2\" valign=\"top\">3</th>\n",
       "      <th>PAYMENT</th>\n",
       "      <td>2275</td>\n",
       "    </tr>\n",
       "    <tr>\n",
       "      <th>REFUND</th>\n",
       "      <td>91</td>\n",
       "    </tr>\n",
       "    <tr>\n",
       "      <th rowspan=\"2\" valign=\"top\">4</th>\n",
       "      <th>PAYMENT</th>\n",
       "      <td>8980</td>\n",
       "    </tr>\n",
       "    <tr>\n",
       "      <th>REFUND</th>\n",
       "      <td>679</td>\n",
       "    </tr>\n",
       "    <tr>\n",
       "      <th rowspan=\"2\" valign=\"top\">5</th>\n",
       "      <th>PAYMENT</th>\n",
       "      <td>9490</td>\n",
       "    </tr>\n",
       "    <tr>\n",
       "      <th>REFUND</th>\n",
       "      <td>577</td>\n",
       "    </tr>\n",
       "    <tr>\n",
       "      <th rowspan=\"2\" valign=\"top\">6</th>\n",
       "      <th>PAYMENT</th>\n",
       "      <td>8919</td>\n",
       "    </tr>\n",
       "    <tr>\n",
       "      <th>REFUND</th>\n",
       "      <td>526</td>\n",
       "    </tr>\n",
       "    <tr>\n",
       "      <th rowspan=\"2\" valign=\"top\">7</th>\n",
       "      <th>PAYMENT</th>\n",
       "      <td>8230</td>\n",
       "    </tr>\n",
       "    <tr>\n",
       "      <th>REFUND</th>\n",
       "      <td>689</td>\n",
       "    </tr>\n",
       "    <tr>\n",
       "      <th rowspan=\"2\" valign=\"top\">8</th>\n",
       "      <th>PAYMENT</th>\n",
       "      <td>9270</td>\n",
       "    </tr>\n",
       "    <tr>\n",
       "      <th>REFUND</th>\n",
       "      <td>768</td>\n",
       "    </tr>\n",
       "    <tr>\n",
       "      <th rowspan=\"2\" valign=\"top\">9</th>\n",
       "      <th>PAYMENT</th>\n",
       "      <td>5752</td>\n",
       "    </tr>\n",
       "    <tr>\n",
       "      <th>REFUND</th>\n",
       "      <td>492</td>\n",
       "    </tr>\n",
       "  </tbody>\n",
       "</table>\n",
       "</div>"
      ],
      "text/plain": [
       "                            transaction_amount\n",
       "completed_at_month type                       \n",
       "3                  PAYMENT                2275\n",
       "                   REFUND                   91\n",
       "4                  PAYMENT                8980\n",
       "                   REFUND                  679\n",
       "5                  PAYMENT                9490\n",
       "                   REFUND                  577\n",
       "6                  PAYMENT                8919\n",
       "                   REFUND                  526\n",
       "7                  PAYMENT                8230\n",
       "                   REFUND                  689\n",
       "8                  PAYMENT                9270\n",
       "                   REFUND                  768\n",
       "9                  PAYMENT                5752\n",
       "                   REFUND                  492"
      ]
     },
     "execution_count": 15,
     "metadata": {},
     "output_type": "execute_result"
    }
   ],
   "source": [
    "# 월별 환불/결제 수\n",
    "pivot_month = df_complete.pivot_table(index=['completed_at_month','type'], values='transaction_amount', aggfunc=('count'))\n",
    "pivot_month"
   ]
  },
  {
   "cell_type": "code",
   "execution_count": 16,
   "id": "51f460e8",
   "metadata": {
    "ExecuteTime": {
     "end_time": "2022-05-18T00:05:35.679088Z",
     "start_time": "2022-05-18T00:05:35.664135Z"
    },
    "scrolled": true
   },
   "outputs": [
    {
     "data": {
      "text/plain": [
       "completed_at_month  type   \n",
       "3                   PAYMENT    0.961538\n",
       "                    REFUND     0.038462\n",
       "4                   PAYMENT    0.929703\n",
       "                    REFUND     0.070297\n",
       "5                   PAYMENT    0.942684\n",
       "                    REFUND     0.057316\n",
       "6                   PAYMENT    0.944309\n",
       "                    REFUND     0.055691\n",
       "7                   PAYMENT    0.922749\n",
       "                    REFUND     0.077251\n",
       "8                   PAYMENT    0.923491\n",
       "                    REFUND     0.076509\n",
       "9                   PAYMENT    0.921204\n",
       "                    REFUND     0.078796\n",
       "Name: transaction_amount, dtype: float64"
      ]
     },
     "execution_count": 16,
     "metadata": {},
     "output_type": "execute_result"
    }
   ],
   "source": [
    "# 월별 환불 비율\n",
    "\n",
    "groupby_month = df_complete.groupby(['completed_at_month','type'])['transaction_amount'].count() / df_complete.groupby(['completed_at_month'])['transaction_amount'].count()\n",
    "groupby_month"
   ]
  },
  {
   "cell_type": "code",
   "execution_count": 17,
   "id": "29b496ea",
   "metadata": {
    "ExecuteTime": {
     "end_time": "2022-05-18T00:05:35.695034Z",
     "start_time": "2022-05-18T00:05:35.680081Z"
    }
   },
   "outputs": [
    {
     "name": "stdout",
     "output_type": "stream",
     "text": [
      "[0.9615384615384616, 0.9297028677916969, 0.942684017085527, 0.9443091582848068, 0.9227491871286019, 0.9234907352062164, 0.9212043561819346]\n",
      "[0.038461538461538464, 0.07029713220830314, 0.05731598291447303, 0.05569084171519322, 0.07725081287139814, 0.07650926479378362, 0.07879564381806534]\n"
     ]
    }
   ],
   "source": [
    "m_payment_value=[]\n",
    "m_refund_value=[]\n",
    "m_labels = ['3','4','5','6','7','8','9']\n",
    "\n",
    "for idx in range(0,len(groupby_month),2):\n",
    "    m_payment_value.append(groupby_month.iloc[idx])\n",
    "\n",
    "for idx in range(1,len(groupby_month),2):\n",
    "    m_refund_value.append(groupby_month.iloc[idx])\n",
    "    \n",
    "print(m_payment_value)\n",
    "print(m_refund_value)\n"
   ]
  },
  {
   "cell_type": "code",
   "execution_count": 18,
   "id": "0e2fedb6",
   "metadata": {
    "ExecuteTime": {
     "end_time": "2022-05-18T00:05:35.805679Z",
     "start_time": "2022-05-18T00:05:35.696028Z"
    }
   },
   "outputs": [
    {
     "data": {
      "image/png": "[encoded data removed]",
      "text/plain": [
       "<Figure size 1152x1152 with 2 Axes>"
      ]
     },
     "metadata": {},
     "output_type": "display_data"
    }
   ],
   "source": [
    "colors = sns.color_palette('Set2')\n",
    "\n",
    "plt.figure(figsize=(16,16))\n",
    "plt.subplot(1,2,1)\n",
    "plt.title('PAYMENT', fontsize=20)\n",
    "plt.pie(m_payment_value, labels=m_labels, autopct='%.1f%%',colors=colors, counterclock=False, textprops={'fontsize':15})\n",
    "\n",
    "plt.subplot(1,2,2)\n",
    "plt.title('REFUND', fontsize=20)\n",
    "plt.pie(m_refund_value, labels=m_labels, autopct='%.1f%%',colors=colors, counterclock=False, textprops={'fontsize':15})\n",
    "\n",
    "plt.show()"
   ]
  },
  {
   "cell_type": "code",
   "execution_count": 19,
   "id": "9d5b5477",
   "metadata": {
    "ExecuteTime": {
     "end_time": "2022-05-18T00:05:35.835579Z",
     "start_time": "2022-05-18T00:05:35.806676Z"
    }
   },
   "outputs": [
    {
     "data": {
      "text/html": [
       "<div>\n",
       "<style scoped>\n",
       "    .dataframe tbody tr th:only-of-type {\n",
       "        vertical-align: middle;\n",
       "    }\n",
       "\n",
       "    .dataframe tbody tr th {\n",
       "        vertical-align: top;\n",
       "    }\n",
       "\n",
       "    .dataframe thead th {\n",
       "        text-align: right;\n",
       "    }\n",
       "</style>\n",
       "<table border=\"1\" class=\"dataframe\">\n",
       "  <thead>\n",
       "    <tr style=\"text-align: right;\">\n",
       "      <th></th>\n",
       "      <th>id</th>\n",
       "      <th>customer_id</th>\n",
       "      <th>course_id</th>\n",
       "      <th>type</th>\n",
       "      <th>state</th>\n",
       "      <th>course_title</th>\n",
       "      <th>category_title</th>\n",
       "      <th>format</th>\n",
       "      <th>transaction_amount</th>\n",
       "      <th>coupon_title</th>\n",
       "      <th>coupon_discount_amount</th>\n",
       "      <th>sale_price</th>\n",
       "      <th>completed_at</th>\n",
       "      <th>completed_at_month</th>\n",
       "      <th>is_coupon</th>\n",
       "    </tr>\n",
       "  </thead>\n",
       "  <tbody>\n",
       "    <tr>\n",
       "      <th>2</th>\n",
       "      <td>970657</td>\n",
       "      <td>72297.0</td>\n",
       "      <td>204246.0</td>\n",
       "      <td>PAYMENT</td>\n",
       "      <td>COMPLETED</td>\n",
       "      <td>시크릿코드 : 프론트엔드 실무 완성편</td>\n",
       "      <td>프로그래밍</td>\n",
       "      <td>스쿨 온라인</td>\n",
       "      <td>171810</td>\n",
       "      <td>[10% 할인] 시크릿코드 실무 완성편</td>\n",
       "      <td>19090.0</td>\n",
       "      <td>190900.0</td>\n",
       "      <td>2021-03-28 15:21:43</td>\n",
       "      <td>3</td>\n",
       "      <td>1</td>\n",
       "    </tr>\n",
       "    <tr>\n",
       "      <th>4</th>\n",
       "      <td>970658</td>\n",
       "      <td>478028.0</td>\n",
       "      <td>201797.0</td>\n",
       "      <td>PAYMENT</td>\n",
       "      <td>COMPLETED</td>\n",
       "      <td>올인원 패키지 : 직장인 필수 스킬 3종 세트 MAX</td>\n",
       "      <td>업무 생산성</td>\n",
       "      <td>올인원</td>\n",
       "      <td>97500</td>\n",
       "      <td>[웰컴쿠폰] 올인원 패키지 2만원 할인 쿠폰</td>\n",
       "      <td>20000.0</td>\n",
       "      <td>117500.0</td>\n",
       "      <td>2021-03-28 15:21:54</td>\n",
       "      <td>3</td>\n",
       "      <td>1</td>\n",
       "    </tr>\n",
       "    <tr>\n",
       "      <th>8</th>\n",
       "      <td>970669</td>\n",
       "      <td>478033.0</td>\n",
       "      <td>203178.0</td>\n",
       "      <td>PAYMENT</td>\n",
       "      <td>COMPLETED</td>\n",
       "      <td>초격차 패키지 : 한번에 끝내는 영상 촬영과 편집</td>\n",
       "      <td>영상/3D</td>\n",
       "      <td>올인원</td>\n",
       "      <td>96000</td>\n",
       "      <td>[웰컴쿠폰] 올인원 패키지 2만원 할인 쿠폰</td>\n",
       "      <td>20000.0</td>\n",
       "      <td>116000.0</td>\n",
       "      <td>2021-03-28 15:26:47</td>\n",
       "      <td>3</td>\n",
       "      <td>1</td>\n",
       "    </tr>\n",
       "    <tr>\n",
       "      <th>10</th>\n",
       "      <td>970671</td>\n",
       "      <td>469860.0</td>\n",
       "      <td>203644.0</td>\n",
       "      <td>PAYMENT</td>\n",
       "      <td>COMPLETED</td>\n",
       "      <td>올인원 패키지 : 권오상의 금융 아카데미 - 권오상의 재무제표 분석 기초(평생소장)</td>\n",
       "      <td>부동산/금융</td>\n",
       "      <td>올인원</td>\n",
       "      <td>263000</td>\n",
       "      <td>NaN</td>\n",
       "      <td>NaN</td>\n",
       "      <td>263000.0</td>\n",
       "      <td>2021-03-28 15:27:17</td>\n",
       "      <td>3</td>\n",
       "      <td>0</td>\n",
       "    </tr>\n",
       "    <tr>\n",
       "      <th>14</th>\n",
       "      <td>970676</td>\n",
       "      <td>478035.0</td>\n",
       "      <td>203720.0</td>\n",
       "      <td>PAYMENT</td>\n",
       "      <td>COMPLETED</td>\n",
       "      <td>초격차 패키지 : 한 번에 끝내는 프론트엔드 개발</td>\n",
       "      <td>프로그래밍</td>\n",
       "      <td>올인원</td>\n",
       "      <td>91000</td>\n",
       "      <td>[웰컴쿠폰] 올인원 패키지 2만원 할인 쿠폰</td>\n",
       "      <td>20000.0</td>\n",
       "      <td>111000.0</td>\n",
       "      <td>2021-03-28 15:31:01</td>\n",
       "      <td>3</td>\n",
       "      <td>1</td>\n",
       "    </tr>\n",
       "  </tbody>\n",
       "</table>\n",
       "</div>"
      ],
      "text/plain": [
       "        id  customer_id  course_id     type      state  \\\n",
       "2   970657      72297.0   204246.0  PAYMENT  COMPLETED   \n",
       "4   970658     478028.0   201797.0  PAYMENT  COMPLETED   \n",
       "8   970669     478033.0   203178.0  PAYMENT  COMPLETED   \n",
       "10  970671     469860.0   203644.0  PAYMENT  COMPLETED   \n",
       "14  970676     478035.0   203720.0  PAYMENT  COMPLETED   \n",
       "\n",
       "                                      course_title category_title  format  \\\n",
       "2                             시크릿코드 : 프론트엔드 실무 완성편          프로그래밍  스쿨 온라인   \n",
       "4                    올인원 패키지 : 직장인 필수 스킬 3종 세트 MAX         업무 생산성     올인원   \n",
       "8                      초격차 패키지 : 한번에 끝내는 영상 촬영과 편집          영상/3D     올인원   \n",
       "10  올인원 패키지 : 권오상의 금융 아카데미 - 권오상의 재무제표 분석 기초(평생소장)         부동산/금융     올인원   \n",
       "14                     초격차 패키지 : 한 번에 끝내는 프론트엔드 개발          프로그래밍     올인원   \n",
       "\n",
       "    transaction_amount              coupon_title  coupon_discount_amount  \\\n",
       "2               171810     [10% 할인] 시크릿코드 실무 완성편                 19090.0   \n",
       "4                97500  [웰컴쿠폰] 올인원 패키지 2만원 할인 쿠폰                 20000.0   \n",
       "8                96000  [웰컴쿠폰] 올인원 패키지 2만원 할인 쿠폰                 20000.0   \n",
       "10              263000                       NaN                     NaN   \n",
       "14               91000  [웰컴쿠폰] 올인원 패키지 2만원 할인 쿠폰                 20000.0   \n",
       "\n",
       "    sale_price        completed_at completed_at_month  is_coupon  \n",
       "2     190900.0 2021-03-28 15:21:43                  3          1  \n",
       "4     117500.0 2021-03-28 15:21:54                  3          1  \n",
       "8     116000.0 2021-03-28 15:26:47                  3          1  \n",
       "10    263000.0 2021-03-28 15:27:17                  3          0  \n",
       "14    111000.0 2021-03-28 15:31:01                  3          1  "
      ]
     },
     "execution_count": 19,
     "metadata": {},
     "output_type": "execute_result"
    }
   ],
   "source": [
    "# 월별 쿠폰사용량\n",
    "def coupon(x):\n",
    "    if x == True:\n",
    "        return 1\n",
    "    else:\n",
    "        return 0\n",
    "df_complete['is_coupon'] = df_complete['coupon_title'].notnull().map(coupon)\n",
    "df_complete.head()"
   ]
  },
  {
   "cell_type": "code",
   "execution_count": 20,
   "id": "48f80cf8",
   "metadata": {
    "ExecuteTime": {
     "end_time": "2022-05-18T00:05:35.850529Z",
     "start_time": "2022-05-18T00:05:35.836576Z"
    }
   },
   "outputs": [
    {
     "data": {
      "text/html": [
       "<div>\n",
       "<style scoped>\n",
       "    .dataframe tbody tr th:only-of-type {\n",
       "        vertical-align: middle;\n",
       "    }\n",
       "\n",
       "    .dataframe tbody tr th {\n",
       "        vertical-align: top;\n",
       "    }\n",
       "\n",
       "    .dataframe thead th {\n",
       "        text-align: right;\n",
       "    }\n",
       "</style>\n",
       "<table border=\"1\" class=\"dataframe\">\n",
       "  <thead>\n",
       "    <tr style=\"text-align: right;\">\n",
       "      <th></th>\n",
       "      <th></th>\n",
       "      <th>transaction_amount</th>\n",
       "    </tr>\n",
       "    <tr>\n",
       "      <th>completed_at_month</th>\n",
       "      <th>is_coupon</th>\n",
       "      <th></th>\n",
       "    </tr>\n",
       "  </thead>\n",
       "  <tbody>\n",
       "    <tr>\n",
       "      <th rowspan=\"2\" valign=\"top\">3</th>\n",
       "      <th>0</th>\n",
       "      <td>766</td>\n",
       "    </tr>\n",
       "    <tr>\n",
       "      <th>1</th>\n",
       "      <td>1600</td>\n",
       "    </tr>\n",
       "    <tr>\n",
       "      <th rowspan=\"2\" valign=\"top\">4</th>\n",
       "      <th>0</th>\n",
       "      <td>4462</td>\n",
       "    </tr>\n",
       "    <tr>\n",
       "      <th>1</th>\n",
       "      <td>5197</td>\n",
       "    </tr>\n",
       "    <tr>\n",
       "      <th rowspan=\"2\" valign=\"top\">5</th>\n",
       "      <th>0</th>\n",
       "      <td>5645</td>\n",
       "    </tr>\n",
       "    <tr>\n",
       "      <th>1</th>\n",
       "      <td>4422</td>\n",
       "    </tr>\n",
       "    <tr>\n",
       "      <th rowspan=\"2\" valign=\"top\">6</th>\n",
       "      <th>0</th>\n",
       "      <td>7357</td>\n",
       "    </tr>\n",
       "    <tr>\n",
       "      <th>1</th>\n",
       "      <td>2088</td>\n",
       "    </tr>\n",
       "    <tr>\n",
       "      <th rowspan=\"2\" valign=\"top\">7</th>\n",
       "      <th>0</th>\n",
       "      <td>6336</td>\n",
       "    </tr>\n",
       "    <tr>\n",
       "      <th>1</th>\n",
       "      <td>2583</td>\n",
       "    </tr>\n",
       "    <tr>\n",
       "      <th rowspan=\"2\" valign=\"top\">8</th>\n",
       "      <th>0</th>\n",
       "      <td>5250</td>\n",
       "    </tr>\n",
       "    <tr>\n",
       "      <th>1</th>\n",
       "      <td>4788</td>\n",
       "    </tr>\n",
       "    <tr>\n",
       "      <th rowspan=\"2\" valign=\"top\">9</th>\n",
       "      <th>0</th>\n",
       "      <td>3159</td>\n",
       "    </tr>\n",
       "    <tr>\n",
       "      <th>1</th>\n",
       "      <td>3085</td>\n",
       "    </tr>\n",
       "  </tbody>\n",
       "</table>\n",
       "</div>"
      ],
      "text/plain": [
       "                              transaction_amount\n",
       "completed_at_month is_coupon                    \n",
       "3                  0                         766\n",
       "                   1                        1600\n",
       "4                  0                        4462\n",
       "                   1                        5197\n",
       "5                  0                        5645\n",
       "                   1                        4422\n",
       "6                  0                        7357\n",
       "                   1                        2088\n",
       "7                  0                        6336\n",
       "                   1                        2583\n",
       "8                  0                        5250\n",
       "                   1                        4788\n",
       "9                  0                        3159\n",
       "                   1                        3085"
      ]
     },
     "execution_count": 20,
     "metadata": {},
     "output_type": "execute_result"
    }
   ],
   "source": [
    "pivot_m_coupon = df_complete.pivot_table(index=['completed_at_month','is_coupon'], values='transaction_amount', aggfunc=('count'))\n",
    "pivot_m_coupon"
   ]
  },
  {
   "cell_type": "code",
   "execution_count": 21,
   "id": "68de8bd1",
   "metadata": {
    "ExecuteTime": {
     "end_time": "2022-05-18T00:05:35.975190Z",
     "start_time": "2022-05-18T00:05:35.851525Z"
    }
   },
   "outputs": [
    {
     "data": {
      "image/png": "[encoded data removed]",
      "text/plain": [
       "<Figure size 1008x720 with 1 Axes>"
      ]
     },
     "metadata": {
      "needs_background": "light"
     },
     "output_type": "display_data"
    }
   ],
   "source": [
    "# groupby_coupon.plot(figsize=(20,10), kind='barh', stacked=True, fontsize=16)\n",
    "\n",
    "plt.figure(figsize=(14,10))\n",
    "sns.histplot(data=df_complete, y='completed_at_month', hue='is_coupon', multiple='stack', palette='Set2')\n",
    "plt.show()"
   ]
  },
  {
   "cell_type": "code",
   "execution_count": 22,
   "id": "fa546431",
   "metadata": {
    "ExecuteTime": {
     "end_time": "2022-05-18T00:05:35.991134Z",
     "start_time": "2022-05-18T00:05:35.976184Z"
    }
   },
   "outputs": [
    {
     "data": {
      "text/plain": [
       "completed_at_month  is_coupon\n",
       "3                   0            0.323753\n",
       "                    1            0.676247\n",
       "4                   0            0.461953\n",
       "                    1            0.538047\n",
       "5                   0            0.560743\n",
       "                    1            0.439257\n",
       "6                   0            0.778931\n",
       "                    1            0.221069\n",
       "7                   0            0.710394\n",
       "                    1            0.289606\n",
       "8                   0            0.523013\n",
       "                    1            0.476987\n",
       "9                   0            0.505926\n",
       "                    1            0.494074\n",
       "Name: transaction_amount, dtype: float64"
      ]
     },
     "execution_count": 22,
     "metadata": {},
     "output_type": "execute_result"
    }
   ],
   "source": [
    "# 월별 쿠폰사용비율\n",
    "\n",
    "groupby_m_coupon = df_complete.groupby(['completed_at_month','is_coupon'])['transaction_amount'].count()/df_complete.groupby(['completed_at_month'])['transaction_amount'].count()\n",
    "groupby_m_coupon"
   ]
  },
  {
   "cell_type": "code",
   "execution_count": 23,
   "id": "0bb5a1f2",
   "metadata": {
    "ExecuteTime": {
     "end_time": "2022-05-18T00:05:36.007082Z",
     "start_time": "2022-05-18T00:05:35.992130Z"
    }
   },
   "outputs": [],
   "source": [
    "m_no_coupon_value=[]\n",
    "m_use_coupon_value=[]\n",
    "\n",
    "for idx in range(0,len(groupby_m_coupon),2):\n",
    "    m_no_coupon_value.append(groupby_m_coupon.iloc[idx])\n",
    "\n",
    "for idx in range(1,len(groupby_m_coupon),2):\n",
    "    m_use_coupon_value.append(groupby_m_coupon[idx])"
   ]
  },
  {
   "cell_type": "code",
   "execution_count": 24,
   "id": "b15fba08",
   "metadata": {
    "ExecuteTime": {
     "end_time": "2022-05-18T00:05:36.117710Z",
     "start_time": "2022-05-18T00:05:36.008078Z"
    }
   },
   "outputs": [
    {
     "data": {
      "image/png": "[encoded data removed]",
      "text/plain": [
       "<Figure size 1152x1152 with 2 Axes>"
      ]
     },
     "metadata": {},
     "output_type": "display_data"
    }
   ],
   "source": [
    "plt.figure(figsize=(16,16))\n",
    "plt.subplot(1,2,1)\n",
    "plt.title('not use coupon', fontsize=20)\n",
    "plt.pie(m_no_coupon_value, labels=m_labels, autopct='%.1f%%',colors=colors, counterclock=False, textprops={'fontsize':15})\n",
    "\n",
    "plt.subplot(1,2,2)\n",
    "plt.title('use coupon', fontsize=20)\n",
    "plt.pie(m_use_coupon_value, labels=m_labels, autopct='%.1f%%',colors=colors, counterclock=False, textprops={'fontsize':15})\n",
    "\n",
    "plt.show()"
   ]
  },
  {
   "cell_type": "code",
   "execution_count": 25,
   "id": "741a451e",
   "metadata": {
    "ExecuteTime": {
     "end_time": "2022-05-18T00:05:36.132680Z",
     "start_time": "2022-05-18T00:05:36.118707Z"
    }
   },
   "outputs": [
    {
     "data": {
      "text/html": [
       "<div>\n",
       "<style scoped>\n",
       "    .dataframe tbody tr th:only-of-type {\n",
       "        vertical-align: middle;\n",
       "    }\n",
       "\n",
       "    .dataframe tbody tr th {\n",
       "        vertical-align: top;\n",
       "    }\n",
       "\n",
       "    .dataframe thead th {\n",
       "        text-align: right;\n",
       "    }\n",
       "</style>\n",
       "<table border=\"1\" class=\"dataframe\">\n",
       "  <thead>\n",
       "    <tr style=\"text-align: right;\">\n",
       "      <th></th>\n",
       "      <th>transaction_amount</th>\n",
       "    </tr>\n",
       "    <tr>\n",
       "      <th>completed_at_month</th>\n",
       "      <th></th>\n",
       "    </tr>\n",
       "  </thead>\n",
       "  <tbody>\n",
       "    <tr>\n",
       "      <th>3</th>\n",
       "      <td>221407144</td>\n",
       "    </tr>\n",
       "    <tr>\n",
       "      <th>4</th>\n",
       "      <td>1270307751</td>\n",
       "    </tr>\n",
       "    <tr>\n",
       "      <th>5</th>\n",
       "      <td>1129846933</td>\n",
       "    </tr>\n",
       "    <tr>\n",
       "      <th>6</th>\n",
       "      <td>1338262670</td>\n",
       "    </tr>\n",
       "    <tr>\n",
       "      <th>7</th>\n",
       "      <td>1549957390</td>\n",
       "    </tr>\n",
       "    <tr>\n",
       "      <th>8</th>\n",
       "      <td>1468471087</td>\n",
       "    </tr>\n",
       "    <tr>\n",
       "      <th>9</th>\n",
       "      <td>1036354182</td>\n",
       "    </tr>\n",
       "  </tbody>\n",
       "</table>\n",
       "</div>"
      ],
      "text/plain": [
       "                    transaction_amount\n",
       "completed_at_month                    \n",
       "3                            221407144\n",
       "4                           1270307751\n",
       "5                           1129846933\n",
       "6                           1338262670\n",
       "7                           1549957390\n",
       "8                           1468471087\n",
       "9                           1036354182"
      ]
     },
     "execution_count": 25,
     "metadata": {},
     "output_type": "execute_result"
    }
   ],
   "source": [
    "# 총 판매금액\n",
    "df_complete.pivot_table(index='completed_at_month', values='transaction_amount', aggfunc='sum')"
   ]
  },
  {
   "cell_type": "markdown",
   "id": "7ab78499",
   "metadata": {},
   "source": [
    "## 요일별 분석"
   ]
  },
  {
   "cell_type": "code",
   "execution_count": 26,
   "id": "de3e1c43",
   "metadata": {
    "ExecuteTime": {
     "end_time": "2022-05-18T00:05:36.162583Z",
     "start_time": "2022-05-18T00:05:36.133677Z"
    }
   },
   "outputs": [
    {
     "data": {
      "text/html": [
       "<div>\n",
       "<style scoped>\n",
       "    .dataframe tbody tr th:only-of-type {\n",
       "        vertical-align: middle;\n",
       "    }\n",
       "\n",
       "    .dataframe tbody tr th {\n",
       "        vertical-align: top;\n",
       "    }\n",
       "\n",
       "    .dataframe thead th {\n",
       "        text-align: right;\n",
       "    }\n",
       "</style>\n",
       "<table border=\"1\" class=\"dataframe\">\n",
       "  <thead>\n",
       "    <tr style=\"text-align: right;\">\n",
       "      <th></th>\n",
       "      <th>id</th>\n",
       "      <th>customer_id</th>\n",
       "      <th>course_id</th>\n",
       "      <th>type</th>\n",
       "      <th>state</th>\n",
       "      <th>course_title</th>\n",
       "      <th>category_title</th>\n",
       "      <th>format</th>\n",
       "      <th>transaction_amount</th>\n",
       "      <th>coupon_title</th>\n",
       "      <th>coupon_discount_amount</th>\n",
       "      <th>sale_price</th>\n",
       "      <th>completed_at</th>\n",
       "      <th>completed_at_month</th>\n",
       "      <th>is_coupon</th>\n",
       "      <th>completed_at_day</th>\n",
       "    </tr>\n",
       "  </thead>\n",
       "  <tbody>\n",
       "    <tr>\n",
       "      <th>2</th>\n",
       "      <td>970657</td>\n",
       "      <td>72297.0</td>\n",
       "      <td>204246.0</td>\n",
       "      <td>PAYMENT</td>\n",
       "      <td>COMPLETED</td>\n",
       "      <td>시크릿코드 : 프론트엔드 실무 완성편</td>\n",
       "      <td>프로그래밍</td>\n",
       "      <td>스쿨 온라인</td>\n",
       "      <td>171810</td>\n",
       "      <td>[10% 할인] 시크릿코드 실무 완성편</td>\n",
       "      <td>19090.0</td>\n",
       "      <td>190900.0</td>\n",
       "      <td>2021-03-28 15:21:43</td>\n",
       "      <td>3</td>\n",
       "      <td>1</td>\n",
       "      <td>일요일</td>\n",
       "    </tr>\n",
       "    <tr>\n",
       "      <th>4</th>\n",
       "      <td>970658</td>\n",
       "      <td>478028.0</td>\n",
       "      <td>201797.0</td>\n",
       "      <td>PAYMENT</td>\n",
       "      <td>COMPLETED</td>\n",
       "      <td>올인원 패키지 : 직장인 필수 스킬 3종 세트 MAX</td>\n",
       "      <td>업무 생산성</td>\n",
       "      <td>올인원</td>\n",
       "      <td>97500</td>\n",
       "      <td>[웰컴쿠폰] 올인원 패키지 2만원 할인 쿠폰</td>\n",
       "      <td>20000.0</td>\n",
       "      <td>117500.0</td>\n",
       "      <td>2021-03-28 15:21:54</td>\n",
       "      <td>3</td>\n",
       "      <td>1</td>\n",
       "      <td>일요일</td>\n",
       "    </tr>\n",
       "    <tr>\n",
       "      <th>8</th>\n",
       "      <td>970669</td>\n",
       "      <td>478033.0</td>\n",
       "      <td>203178.0</td>\n",
       "      <td>PAYMENT</td>\n",
       "      <td>COMPLETED</td>\n",
       "      <td>초격차 패키지 : 한번에 끝내는 영상 촬영과 편집</td>\n",
       "      <td>영상/3D</td>\n",
       "      <td>올인원</td>\n",
       "      <td>96000</td>\n",
       "      <td>[웰컴쿠폰] 올인원 패키지 2만원 할인 쿠폰</td>\n",
       "      <td>20000.0</td>\n",
       "      <td>116000.0</td>\n",
       "      <td>2021-03-28 15:26:47</td>\n",
       "      <td>3</td>\n",
       "      <td>1</td>\n",
       "      <td>일요일</td>\n",
       "    </tr>\n",
       "    <tr>\n",
       "      <th>10</th>\n",
       "      <td>970671</td>\n",
       "      <td>469860.0</td>\n",
       "      <td>203644.0</td>\n",
       "      <td>PAYMENT</td>\n",
       "      <td>COMPLETED</td>\n",
       "      <td>올인원 패키지 : 권오상의 금융 아카데미 - 권오상의 재무제표 분석 기초(평생소장)</td>\n",
       "      <td>부동산/금융</td>\n",
       "      <td>올인원</td>\n",
       "      <td>263000</td>\n",
       "      <td>NaN</td>\n",
       "      <td>NaN</td>\n",
       "      <td>263000.0</td>\n",
       "      <td>2021-03-28 15:27:17</td>\n",
       "      <td>3</td>\n",
       "      <td>0</td>\n",
       "      <td>일요일</td>\n",
       "    </tr>\n",
       "    <tr>\n",
       "      <th>14</th>\n",
       "      <td>970676</td>\n",
       "      <td>478035.0</td>\n",
       "      <td>203720.0</td>\n",
       "      <td>PAYMENT</td>\n",
       "      <td>COMPLETED</td>\n",
       "      <td>초격차 패키지 : 한 번에 끝내는 프론트엔드 개발</td>\n",
       "      <td>프로그래밍</td>\n",
       "      <td>올인원</td>\n",
       "      <td>91000</td>\n",
       "      <td>[웰컴쿠폰] 올인원 패키지 2만원 할인 쿠폰</td>\n",
       "      <td>20000.0</td>\n",
       "      <td>111000.0</td>\n",
       "      <td>2021-03-28 15:31:01</td>\n",
       "      <td>3</td>\n",
       "      <td>1</td>\n",
       "      <td>일요일</td>\n",
       "    </tr>\n",
       "  </tbody>\n",
       "</table>\n",
       "</div>"
      ],
      "text/plain": [
       "        id  customer_id  course_id     type      state  \\\n",
       "2   970657      72297.0   204246.0  PAYMENT  COMPLETED   \n",
       "4   970658     478028.0   201797.0  PAYMENT  COMPLETED   \n",
       "8   970669     478033.0   203178.0  PAYMENT  COMPLETED   \n",
       "10  970671     469860.0   203644.0  PAYMENT  COMPLETED   \n",
       "14  970676     478035.0   203720.0  PAYMENT  COMPLETED   \n",
       "\n",
       "                                      course_title category_title  format  \\\n",
       "2                             시크릿코드 : 프론트엔드 실무 완성편          프로그래밍  스쿨 온라인   \n",
       "4                    올인원 패키지 : 직장인 필수 스킬 3종 세트 MAX         업무 생산성     올인원   \n",
       "8                      초격차 패키지 : 한번에 끝내는 영상 촬영과 편집          영상/3D     올인원   \n",
       "10  올인원 패키지 : 권오상의 금융 아카데미 - 권오상의 재무제표 분석 기초(평생소장)         부동산/금융     올인원   \n",
       "14                     초격차 패키지 : 한 번에 끝내는 프론트엔드 개발          프로그래밍     올인원   \n",
       "\n",
       "    transaction_amount              coupon_title  coupon_discount_amount  \\\n",
       "2               171810     [10% 할인] 시크릿코드 실무 완성편                 19090.0   \n",
       "4                97500  [웰컴쿠폰] 올인원 패키지 2만원 할인 쿠폰                 20000.0   \n",
       "8                96000  [웰컴쿠폰] 올인원 패키지 2만원 할인 쿠폰                 20000.0   \n",
       "10              263000                       NaN                     NaN   \n",
       "14               91000  [웰컴쿠폰] 올인원 패키지 2만원 할인 쿠폰                 20000.0   \n",
       "\n",
       "    sale_price        completed_at completed_at_month  is_coupon  \\\n",
       "2     190900.0 2021-03-28 15:21:43                  3          1   \n",
       "4     117500.0 2021-03-28 15:21:54                  3          1   \n",
       "8     116000.0 2021-03-28 15:26:47                  3          1   \n",
       "10    263000.0 2021-03-28 15:27:17                  3          0   \n",
       "14    111000.0 2021-03-28 15:31:01                  3          1   \n",
       "\n",
       "   completed_at_day  \n",
       "2               일요일  \n",
       "4               일요일  \n",
       "8               일요일  \n",
       "10              일요일  \n",
       "14              일요일  "
      ]
     },
     "execution_count": 26,
     "metadata": {},
     "output_type": "execute_result"
    }
   ],
   "source": [
    "def day(x):\n",
    "    if x== 0:\n",
    "        return '월요일'\n",
    "    elif x==1:\n",
    "        return '화요일'\n",
    "    elif x==2:\n",
    "        return '수요일'\n",
    "    elif x==3:\n",
    "        return '목요일'\n",
    "    elif x==4:\n",
    "        return '금요일'\n",
    "    elif x==5:\n",
    "        return '토요일'\n",
    "    elif x==6:\n",
    "        return '일요일'\n",
    "df_complete['completed_at_day'] = df_complete['completed_at'].dt.day_of_week.map(day)\n",
    "df_complete.head()"
   ]
  },
  {
   "cell_type": "code",
   "execution_count": 27,
   "id": "8310b449",
   "metadata": {
    "ExecuteTime": {
     "end_time": "2022-05-18T00:05:36.178530Z",
     "start_time": "2022-05-18T00:05:36.163577Z"
    }
   },
   "outputs": [
    {
     "data": {
      "text/plain": [
       "월요일    10632\n",
       "화요일     8710\n",
       "수요일     8705\n",
       "금요일     8666\n",
       "일요일     7668\n",
       "목요일     7259\n",
       "토요일     5098\n",
       "Name: completed_at_day, dtype: int64"
      ]
     },
     "execution_count": 27,
     "metadata": {},
     "output_type": "execute_result"
    }
   ],
   "source": [
    "df_complete['completed_at_day'].value_counts()"
   ]
  },
  {
   "cell_type": "code",
   "execution_count": 28,
   "id": "f0cf7c9f",
   "metadata": {
    "ExecuteTime": {
     "end_time": "2022-05-18T00:05:36.273213Z",
     "start_time": "2022-05-18T00:05:36.181517Z"
    }
   },
   "outputs": [
    {
     "data": {
      "image/png": "[encoded data removed]",
      "text/plain": [
       "<Figure size 720x576 with 1 Axes>"
      ]
     },
     "metadata": {
      "needs_background": "light"
     },
     "output_type": "display_data"
    }
   ],
   "source": [
    "plt.figure(figsize=(10,8))\n",
    "sns.countplot(data=df_complete, x='completed_at_day', order=df_complete['completed_at_day'].value_counts().index, palette='Set2')\n",
    "plt.show()"
   ]
  },
  {
   "cell_type": "code",
   "execution_count": 29,
   "id": "7a7c04ae",
   "metadata": {
    "ExecuteTime": {
     "end_time": "2022-05-18T00:05:36.303110Z",
     "start_time": "2022-05-18T00:05:36.274207Z"
    }
   },
   "outputs": [
    {
     "data": {
      "text/html": [
       "<div>\n",
       "<style scoped>\n",
       "    .dataframe tbody tr th:only-of-type {\n",
       "        vertical-align: middle;\n",
       "    }\n",
       "\n",
       "    .dataframe tbody tr th {\n",
       "        vertical-align: top;\n",
       "    }\n",
       "\n",
       "    .dataframe thead th {\n",
       "        text-align: right;\n",
       "    }\n",
       "</style>\n",
       "<table border=\"1\" class=\"dataframe\">\n",
       "  <thead>\n",
       "    <tr style=\"text-align: right;\">\n",
       "      <th></th>\n",
       "      <th></th>\n",
       "      <th>transaction_amount</th>\n",
       "    </tr>\n",
       "    <tr>\n",
       "      <th>completed_at_day</th>\n",
       "      <th>is_coupon</th>\n",
       "      <th></th>\n",
       "    </tr>\n",
       "  </thead>\n",
       "  <tbody>\n",
       "    <tr>\n",
       "      <th rowspan=\"2\" valign=\"top\">금요일</th>\n",
       "      <th>0</th>\n",
       "      <td>4605</td>\n",
       "    </tr>\n",
       "    <tr>\n",
       "      <th>1</th>\n",
       "      <td>4061</td>\n",
       "    </tr>\n",
       "    <tr>\n",
       "      <th rowspan=\"2\" valign=\"top\">목요일</th>\n",
       "      <th>0</th>\n",
       "      <td>4480</td>\n",
       "    </tr>\n",
       "    <tr>\n",
       "      <th>1</th>\n",
       "      <td>2779</td>\n",
       "    </tr>\n",
       "    <tr>\n",
       "      <th rowspan=\"2\" valign=\"top\">수요일</th>\n",
       "      <th>0</th>\n",
       "      <td>5545</td>\n",
       "    </tr>\n",
       "    <tr>\n",
       "      <th>1</th>\n",
       "      <td>3160</td>\n",
       "    </tr>\n",
       "    <tr>\n",
       "      <th rowspan=\"2\" valign=\"top\">월요일</th>\n",
       "      <th>0</th>\n",
       "      <td>5453</td>\n",
       "    </tr>\n",
       "    <tr>\n",
       "      <th>1</th>\n",
       "      <td>5179</td>\n",
       "    </tr>\n",
       "    <tr>\n",
       "      <th rowspan=\"2\" valign=\"top\">일요일</th>\n",
       "      <th>0</th>\n",
       "      <td>4555</td>\n",
       "    </tr>\n",
       "    <tr>\n",
       "      <th>1</th>\n",
       "      <td>3113</td>\n",
       "    </tr>\n",
       "    <tr>\n",
       "      <th rowspan=\"2\" valign=\"top\">토요일</th>\n",
       "      <th>0</th>\n",
       "      <td>3126</td>\n",
       "    </tr>\n",
       "    <tr>\n",
       "      <th>1</th>\n",
       "      <td>1972</td>\n",
       "    </tr>\n",
       "    <tr>\n",
       "      <th rowspan=\"2\" valign=\"top\">화요일</th>\n",
       "      <th>0</th>\n",
       "      <td>5211</td>\n",
       "    </tr>\n",
       "    <tr>\n",
       "      <th>1</th>\n",
       "      <td>3499</td>\n",
       "    </tr>\n",
       "  </tbody>\n",
       "</table>\n",
       "</div>"
      ],
      "text/plain": [
       "                            transaction_amount\n",
       "completed_at_day is_coupon                    \n",
       "금요일              0                        4605\n",
       "                 1                        4061\n",
       "목요일              0                        4480\n",
       "                 1                        2779\n",
       "수요일              0                        5545\n",
       "                 1                        3160\n",
       "월요일              0                        5453\n",
       "                 1                        5179\n",
       "일요일              0                        4555\n",
       "                 1                        3113\n",
       "토요일              0                        3126\n",
       "                 1                        1972\n",
       "화요일              0                        5211\n",
       "                 1                        3499"
      ]
     },
     "execution_count": 29,
     "metadata": {},
     "output_type": "execute_result"
    }
   ],
   "source": [
    "pivot_d_coupon = df_complete.pivot_table(index=['completed_at_day','is_coupon'], values='transaction_amount', aggfunc=('count'))\n",
    "pivot_d_coupon"
   ]
  },
  {
   "cell_type": "code",
   "execution_count": 30,
   "id": "4283e392",
   "metadata": {
    "ExecuteTime": {
     "end_time": "2022-05-18T00:05:36.318061Z",
     "start_time": "2022-05-18T00:05:36.304107Z"
    }
   },
   "outputs": [
    {
     "data": {
      "text/plain": [
       "completed_at_day  is_coupon\n",
       "금요일               0            0.531387\n",
       "                  1            0.468613\n",
       "목요일               0            0.617165\n",
       "                  1            0.382835\n",
       "수요일               0            0.636990\n",
       "                  1            0.363010\n",
       "월요일               0            0.512886\n",
       "                  1            0.487114\n",
       "일요일               0            0.594027\n",
       "                  1            0.405973\n",
       "토요일               0            0.613182\n",
       "                  1            0.386818\n",
       "화요일               0            0.598278\n",
       "                  1            0.401722\n",
       "Name: transaction_amount, dtype: float64"
      ]
     },
     "execution_count": 30,
     "metadata": {},
     "output_type": "execute_result"
    }
   ],
   "source": [
    "groupby_d_coupon = df_complete.groupby(['completed_at_day','is_coupon'])['transaction_amount'].count()/df_complete.groupby(['completed_at_day'])['transaction_amount'].count()\n",
    "groupby_d_coupon"
   ]
  },
  {
   "cell_type": "code",
   "execution_count": 31,
   "id": "6b424340",
   "metadata": {
    "ExecuteTime": {
     "end_time": "2022-05-18T00:05:36.333062Z",
     "start_time": "2022-05-18T00:05:36.319057Z"
    }
   },
   "outputs": [
    {
     "name": "stdout",
     "output_type": "stream",
     "text": [
      "[0.5313870297715209, 0.6171648987463838, 0.6369902354968409, 0.5128856282919488, 0.5940271257172666, 0.6131816398587682, 0.5982778415614236]\n",
      "[0.4686129702284791, 0.3828351012536162, 0.3630097645031591, 0.48711437170805116, 0.40597287428273343, 0.38681836014123183, 0.40172215843857634]\n"
     ]
    }
   ],
   "source": [
    "d_no_coupon_value=[]\n",
    "d_use_coupon_value=[]\n",
    "d_labels=['금요일','목요일','수요일','월요일','일요일','토요일','화요일']\n",
    "\n",
    "for idx in range(0,len(groupby_d_coupon),2):\n",
    "    d_no_coupon_value.append(groupby_d_coupon.iloc[idx])\n",
    "\n",
    "for idx in range(1,len(groupby_d_coupon),2):\n",
    "    d_use_coupon_value.append(groupby_d_coupon[idx])\n",
    "    \n",
    "print(d_no_coupon_value)\n",
    "print(d_use_coupon_value)"
   ]
  },
  {
   "cell_type": "code",
   "execution_count": 32,
   "id": "e1c55f8d",
   "metadata": {
    "ExecuteTime": {
     "end_time": "2022-05-18T00:05:36.349008Z",
     "start_time": "2022-05-18T00:05:36.334058Z"
    }
   },
   "outputs": [
    {
     "data": {
      "text/html": [
       "<div>\n",
       "<style scoped>\n",
       "    .dataframe tbody tr th:only-of-type {\n",
       "        vertical-align: middle;\n",
       "    }\n",
       "\n",
       "    .dataframe tbody tr th {\n",
       "        vertical-align: top;\n",
       "    }\n",
       "\n",
       "    .dataframe thead th {\n",
       "        text-align: right;\n",
       "    }\n",
       "</style>\n",
       "<table border=\"1\" class=\"dataframe\">\n",
       "  <thead>\n",
       "    <tr style=\"text-align: right;\">\n",
       "      <th></th>\n",
       "      <th>day</th>\n",
       "      <th>not use coupon</th>\n",
       "      <th>use coupon</th>\n",
       "    </tr>\n",
       "  </thead>\n",
       "  <tbody>\n",
       "    <tr>\n",
       "      <th>0</th>\n",
       "      <td>금요일</td>\n",
       "      <td>0.531387</td>\n",
       "      <td>0.468613</td>\n",
       "    </tr>\n",
       "    <tr>\n",
       "      <th>1</th>\n",
       "      <td>목요일</td>\n",
       "      <td>0.617165</td>\n",
       "      <td>0.382835</td>\n",
       "    </tr>\n",
       "    <tr>\n",
       "      <th>2</th>\n",
       "      <td>수요일</td>\n",
       "      <td>0.636990</td>\n",
       "      <td>0.363010</td>\n",
       "    </tr>\n",
       "    <tr>\n",
       "      <th>3</th>\n",
       "      <td>월요일</td>\n",
       "      <td>0.512886</td>\n",
       "      <td>0.487114</td>\n",
       "    </tr>\n",
       "    <tr>\n",
       "      <th>4</th>\n",
       "      <td>일요일</td>\n",
       "      <td>0.594027</td>\n",
       "      <td>0.405973</td>\n",
       "    </tr>\n",
       "    <tr>\n",
       "      <th>5</th>\n",
       "      <td>토요일</td>\n",
       "      <td>0.613182</td>\n",
       "      <td>0.386818</td>\n",
       "    </tr>\n",
       "    <tr>\n",
       "      <th>6</th>\n",
       "      <td>화요일</td>\n",
       "      <td>0.598278</td>\n",
       "      <td>0.401722</td>\n",
       "    </tr>\n",
       "  </tbody>\n",
       "</table>\n",
       "</div>"
      ],
      "text/plain": [
       "   day  not use coupon  use coupon\n",
       "0  금요일        0.531387    0.468613\n",
       "1  목요일        0.617165    0.382835\n",
       "2  수요일        0.636990    0.363010\n",
       "3  월요일        0.512886    0.487114\n",
       "4  일요일        0.594027    0.405973\n",
       "5  토요일        0.613182    0.386818\n",
       "6  화요일        0.598278    0.401722"
      ]
     },
     "execution_count": 32,
     "metadata": {},
     "output_type": "execute_result"
    }
   ],
   "source": [
    "d_coupon_rate = pd.DataFrame((zip(d_labels, d_no_coupon_value, d_use_coupon_value)), columns=['day','not use coupon','use coupon'])\n",
    "d_coupon_rate"
   ]
  },
  {
   "cell_type": "code",
   "execution_count": 33,
   "id": "f36fd544",
   "metadata": {
    "ExecuteTime": {
     "end_time": "2022-05-18T00:05:36.536407Z",
     "start_time": "2022-05-18T00:05:36.350005Z"
    }
   },
   "outputs": [
    {
     "data": {
      "image/png": "[encoded data removed]",
      "text/plain": [
       "<Figure size 1008x1152 with 3 Axes>"
      ]
     },
     "metadata": {
      "needs_background": "light"
     },
     "output_type": "display_data"
    }
   ],
   "source": [
    "plt.figure(figsize=(14,16))\n",
    "plt.subplot(2,2,1)\n",
    "plt.title('not use coupon', fontsize=20)\n",
    "plt.pie(d_no_coupon_value, labels=d_labels, autopct='%.1f%%',colors=colors, counterclock=False, textprops={'fontsize':13})\n",
    "\n",
    "plt.subplot(2,2,2)\n",
    "plt.title('use coupon', fontsize=20)\n",
    "plt.pie(d_use_coupon_value, labels=d_labels, autopct='%.1f%%',colors=colors, counterclock=False, textprops={'fontsize':13})\n",
    "\n",
    "plt.subplot(2,1,2)\n",
    "plt.title('use coupon rate', fontsize=20)\n",
    "sns.barplot(data=d_coupon_rate, x='day', y='use coupon', palette='Set2', order=d_coupon_rate.sort_values('use coupon').day)\n",
    "\n",
    "\n",
    "plt.show()"
   ]
  },
  {
   "cell_type": "code",
   "execution_count": 34,
   "id": "36219ee2",
   "metadata": {
    "ExecuteTime": {
     "end_time": "2022-05-18T00:05:36.552354Z",
     "start_time": "2022-05-18T00:05:36.537404Z"
    }
   },
   "outputs": [
    {
     "data": {
      "text/html": [
       "<div>\n",
       "<style scoped>\n",
       "    .dataframe tbody tr th:only-of-type {\n",
       "        vertical-align: middle;\n",
       "    }\n",
       "\n",
       "    .dataframe tbody tr th {\n",
       "        vertical-align: top;\n",
       "    }\n",
       "\n",
       "    .dataframe thead th {\n",
       "        text-align: right;\n",
       "    }\n",
       "</style>\n",
       "<table border=\"1\" class=\"dataframe\">\n",
       "  <thead>\n",
       "    <tr style=\"text-align: right;\">\n",
       "      <th></th>\n",
       "      <th>transaction_amount</th>\n",
       "    </tr>\n",
       "    <tr>\n",
       "      <th>completed_at_day</th>\n",
       "      <th></th>\n",
       "    </tr>\n",
       "  </thead>\n",
       "  <tbody>\n",
       "    <tr>\n",
       "      <th>금요일</th>\n",
       "      <td>1201727995</td>\n",
       "    </tr>\n",
       "    <tr>\n",
       "      <th>목요일</th>\n",
       "      <td>1130637176</td>\n",
       "    </tr>\n",
       "    <tr>\n",
       "      <th>수요일</th>\n",
       "      <td>1376879908</td>\n",
       "    </tr>\n",
       "    <tr>\n",
       "      <th>월요일</th>\n",
       "      <td>1183770165</td>\n",
       "    </tr>\n",
       "    <tr>\n",
       "      <th>일요일</th>\n",
       "      <td>1157663115</td>\n",
       "    </tr>\n",
       "    <tr>\n",
       "      <th>토요일</th>\n",
       "      <td>744263545</td>\n",
       "    </tr>\n",
       "    <tr>\n",
       "      <th>화요일</th>\n",
       "      <td>1219665253</td>\n",
       "    </tr>\n",
       "  </tbody>\n",
       "</table>\n",
       "</div>"
      ],
      "text/plain": [
       "                  transaction_amount\n",
       "completed_at_day                    \n",
       "금요일                       1201727995\n",
       "목요일                       1130637176\n",
       "수요일                       1376879908\n",
       "월요일                       1183770165\n",
       "일요일                       1157663115\n",
       "토요일                        744263545\n",
       "화요일                       1219665253"
      ]
     },
     "execution_count": 34,
     "metadata": {},
     "output_type": "execute_result"
    }
   ],
   "source": [
    "# 총 판매금액\n",
    "\n",
    "df_complete.pivot_table(index='completed_at_day', values='transaction_amount', aggfunc='sum')"
   ]
  },
  {
   "cell_type": "markdown",
   "id": "39467090",
   "metadata": {},
   "source": [
    "## 시간대별 분석"
   ]
  },
  {
   "cell_type": "code",
   "execution_count": 35,
   "id": "422e46e3",
   "metadata": {
    "ExecuteTime": {
     "end_time": "2022-05-18T00:05:36.584247Z",
     "start_time": "2022-05-18T00:05:36.553350Z"
    },
    "scrolled": true
   },
   "outputs": [
    {
     "data": {
      "text/html": [
       "<div>\n",
       "<style scoped>\n",
       "    .dataframe tbody tr th:only-of-type {\n",
       "        vertical-align: middle;\n",
       "    }\n",
       "\n",
       "    .dataframe tbody tr th {\n",
       "        vertical-align: top;\n",
       "    }\n",
       "\n",
       "    .dataframe thead th {\n",
       "        text-align: right;\n",
       "    }\n",
       "</style>\n",
       "<table border=\"1\" class=\"dataframe\">\n",
       "  <thead>\n",
       "    <tr style=\"text-align: right;\">\n",
       "      <th></th>\n",
       "      <th>id</th>\n",
       "      <th>customer_id</th>\n",
       "      <th>course_id</th>\n",
       "      <th>type</th>\n",
       "      <th>state</th>\n",
       "      <th>course_title</th>\n",
       "      <th>category_title</th>\n",
       "      <th>format</th>\n",
       "      <th>transaction_amount</th>\n",
       "      <th>coupon_title</th>\n",
       "      <th>coupon_discount_amount</th>\n",
       "      <th>sale_price</th>\n",
       "      <th>completed_at</th>\n",
       "      <th>completed_at_month</th>\n",
       "      <th>is_coupon</th>\n",
       "      <th>completed_at_day</th>\n",
       "      <th>completed_at_hour</th>\n",
       "    </tr>\n",
       "  </thead>\n",
       "  <tbody>\n",
       "    <tr>\n",
       "      <th>2</th>\n",
       "      <td>970657</td>\n",
       "      <td>72297.0</td>\n",
       "      <td>204246.0</td>\n",
       "      <td>PAYMENT</td>\n",
       "      <td>COMPLETED</td>\n",
       "      <td>시크릿코드 : 프론트엔드 실무 완성편</td>\n",
       "      <td>프로그래밍</td>\n",
       "      <td>스쿨 온라인</td>\n",
       "      <td>171810</td>\n",
       "      <td>[10% 할인] 시크릿코드 실무 완성편</td>\n",
       "      <td>19090.0</td>\n",
       "      <td>190900.0</td>\n",
       "      <td>2021-03-28 15:21:43</td>\n",
       "      <td>3</td>\n",
       "      <td>1</td>\n",
       "      <td>일요일</td>\n",
       "      <td>15</td>\n",
       "    </tr>\n",
       "    <tr>\n",
       "      <th>4</th>\n",
       "      <td>970658</td>\n",
       "      <td>478028.0</td>\n",
       "      <td>201797.0</td>\n",
       "      <td>PAYMENT</td>\n",
       "      <td>COMPLETED</td>\n",
       "      <td>올인원 패키지 : 직장인 필수 스킬 3종 세트 MAX</td>\n",
       "      <td>업무 생산성</td>\n",
       "      <td>올인원</td>\n",
       "      <td>97500</td>\n",
       "      <td>[웰컴쿠폰] 올인원 패키지 2만원 할인 쿠폰</td>\n",
       "      <td>20000.0</td>\n",
       "      <td>117500.0</td>\n",
       "      <td>2021-03-28 15:21:54</td>\n",
       "      <td>3</td>\n",
       "      <td>1</td>\n",
       "      <td>일요일</td>\n",
       "      <td>15</td>\n",
       "    </tr>\n",
       "    <tr>\n",
       "      <th>8</th>\n",
       "      <td>970669</td>\n",
       "      <td>478033.0</td>\n",
       "      <td>203178.0</td>\n",
       "      <td>PAYMENT</td>\n",
       "      <td>COMPLETED</td>\n",
       "      <td>초격차 패키지 : 한번에 끝내는 영상 촬영과 편집</td>\n",
       "      <td>영상/3D</td>\n",
       "      <td>올인원</td>\n",
       "      <td>96000</td>\n",
       "      <td>[웰컴쿠폰] 올인원 패키지 2만원 할인 쿠폰</td>\n",
       "      <td>20000.0</td>\n",
       "      <td>116000.0</td>\n",
       "      <td>2021-03-28 15:26:47</td>\n",
       "      <td>3</td>\n",
       "      <td>1</td>\n",
       "      <td>일요일</td>\n",
       "      <td>15</td>\n",
       "    </tr>\n",
       "    <tr>\n",
       "      <th>10</th>\n",
       "      <td>970671</td>\n",
       "      <td>469860.0</td>\n",
       "      <td>203644.0</td>\n",
       "      <td>PAYMENT</td>\n",
       "      <td>COMPLETED</td>\n",
       "      <td>올인원 패키지 : 권오상의 금융 아카데미 - 권오상의 재무제표 분석 기초(평생소장)</td>\n",
       "      <td>부동산/금융</td>\n",
       "      <td>올인원</td>\n",
       "      <td>263000</td>\n",
       "      <td>NaN</td>\n",
       "      <td>NaN</td>\n",
       "      <td>263000.0</td>\n",
       "      <td>2021-03-28 15:27:17</td>\n",
       "      <td>3</td>\n",
       "      <td>0</td>\n",
       "      <td>일요일</td>\n",
       "      <td>15</td>\n",
       "    </tr>\n",
       "    <tr>\n",
       "      <th>14</th>\n",
       "      <td>970676</td>\n",
       "      <td>478035.0</td>\n",
       "      <td>203720.0</td>\n",
       "      <td>PAYMENT</td>\n",
       "      <td>COMPLETED</td>\n",
       "      <td>초격차 패키지 : 한 번에 끝내는 프론트엔드 개발</td>\n",
       "      <td>프로그래밍</td>\n",
       "      <td>올인원</td>\n",
       "      <td>91000</td>\n",
       "      <td>[웰컴쿠폰] 올인원 패키지 2만원 할인 쿠폰</td>\n",
       "      <td>20000.0</td>\n",
       "      <td>111000.0</td>\n",
       "      <td>2021-03-28 15:31:01</td>\n",
       "      <td>3</td>\n",
       "      <td>1</td>\n",
       "      <td>일요일</td>\n",
       "      <td>15</td>\n",
       "    </tr>\n",
       "  </tbody>\n",
       "</table>\n",
       "</div>"
      ],
      "text/plain": [
       "        id  customer_id  course_id     type      state  \\\n",
       "2   970657      72297.0   204246.0  PAYMENT  COMPLETED   \n",
       "4   970658     478028.0   201797.0  PAYMENT  COMPLETED   \n",
       "8   970669     478033.0   203178.0  PAYMENT  COMPLETED   \n",
       "10  970671     469860.0   203644.0  PAYMENT  COMPLETED   \n",
       "14  970676     478035.0   203720.0  PAYMENT  COMPLETED   \n",
       "\n",
       "                                      course_title category_title  format  \\\n",
       "2                             시크릿코드 : 프론트엔드 실무 완성편          프로그래밍  스쿨 온라인   \n",
       "4                    올인원 패키지 : 직장인 필수 스킬 3종 세트 MAX         업무 생산성     올인원   \n",
       "8                      초격차 패키지 : 한번에 끝내는 영상 촬영과 편집          영상/3D     올인원   \n",
       "10  올인원 패키지 : 권오상의 금융 아카데미 - 권오상의 재무제표 분석 기초(평생소장)         부동산/금융     올인원   \n",
       "14                     초격차 패키지 : 한 번에 끝내는 프론트엔드 개발          프로그래밍     올인원   \n",
       "\n",
       "    transaction_amount              coupon_title  coupon_discount_amount  \\\n",
       "2               171810     [10% 할인] 시크릿코드 실무 완성편                 19090.0   \n",
       "4                97500  [웰컴쿠폰] 올인원 패키지 2만원 할인 쿠폰                 20000.0   \n",
       "8                96000  [웰컴쿠폰] 올인원 패키지 2만원 할인 쿠폰                 20000.0   \n",
       "10              263000                       NaN                     NaN   \n",
       "14               91000  [웰컴쿠폰] 올인원 패키지 2만원 할인 쿠폰                 20000.0   \n",
       "\n",
       "    sale_price        completed_at completed_at_month  is_coupon  \\\n",
       "2     190900.0 2021-03-28 15:21:43                  3          1   \n",
       "4     117500.0 2021-03-28 15:21:54                  3          1   \n",
       "8     116000.0 2021-03-28 15:26:47                  3          1   \n",
       "10    263000.0 2021-03-28 15:27:17                  3          0   \n",
       "14    111000.0 2021-03-28 15:31:01                  3          1   \n",
       "\n",
       "   completed_at_day completed_at_hour  \n",
       "2               일요일                15  \n",
       "4               일요일                15  \n",
       "8               일요일                15  \n",
       "10              일요일                15  \n",
       "14              일요일                15  "
      ]
     },
     "execution_count": 35,
     "metadata": {},
     "output_type": "execute_result"
    }
   ],
   "source": [
    "def hour(x):\n",
    "    if x==1:\n",
    "        return '1'\n",
    "    elif x==2:\n",
    "        return '2'\n",
    "    elif x==3:\n",
    "        return '3'\n",
    "    elif x==4:\n",
    "        return '4'\n",
    "    elif x==5:\n",
    "        return '5'\n",
    "    elif x==6:\n",
    "        return '6'\n",
    "    elif x==7:\n",
    "        return '7'\n",
    "    elif x==8:\n",
    "        return '8'\n",
    "    elif x==9:\n",
    "        return '9'\n",
    "    elif x==10:\n",
    "        return '10'\n",
    "    elif x==11:\n",
    "        return '11'   \n",
    "    elif x==12:\n",
    "        return '12'\n",
    "    elif x==13:\n",
    "        return '13'\n",
    "    elif x==14:\n",
    "        return '14'\n",
    "    elif x==15:\n",
    "        return '15'\n",
    "    elif x==16:\n",
    "        return '16'\n",
    "    elif x==17:\n",
    "        return '17'\n",
    "    elif x==18:\n",
    "        return '18'\n",
    "    elif x==19:\n",
    "        return '19'\n",
    "    elif x==20:\n",
    "        return '20'\n",
    "    elif x==21:\n",
    "        return '21'  \n",
    "    elif x==22:\n",
    "        return '22'  \n",
    "    elif x==23:\n",
    "        return '23'  \n",
    "    else:\n",
    "        return '0'\n",
    "df_complete['completed_at_hour'] = df_complete.completed_at.dt.hour.map(hour)\n",
    "df_complete.head()"
   ]
  },
  {
   "cell_type": "code",
   "execution_count": 36,
   "id": "d7f527d9",
   "metadata": {
    "ExecuteTime": {
     "end_time": "2022-05-18T00:05:36.600194Z",
     "start_time": "2022-05-18T00:05:36.585244Z"
    },
    "scrolled": true
   },
   "outputs": [
    {
     "data": {
      "text/plain": [
       "23    4183\n",
       "22    3890\n",
       "15    3838\n",
       "10    3821\n",
       "16    3627\n",
       "13    3486\n",
       "14    3452\n",
       "11    3425\n",
       "17    3392\n",
       "21    3391\n",
       "18    3346\n",
       "20    2912\n",
       "19    2734\n",
       "12    2363\n",
       "0     1862\n",
       "9     1840\n",
       "8     1159\n",
       "1     1117\n",
       "2      759\n",
       "7      754\n",
       "6      433\n",
       "3      405\n",
       "5      287\n",
       "4      262\n",
       "Name: completed_at_hour, dtype: int64"
      ]
     },
     "execution_count": 36,
     "metadata": {},
     "output_type": "execute_result"
    }
   ],
   "source": [
    "df_complete.completed_at_hour.value_counts()"
   ]
  },
  {
   "cell_type": "code",
   "execution_count": 37,
   "id": "5250e5f3",
   "metadata": {
    "ExecuteTime": {
     "end_time": "2022-05-18T00:05:36.724780Z",
     "start_time": "2022-05-18T00:05:36.601190Z"
    }
   },
   "outputs": [
    {
     "data": {
      "image/png": "[encoded data removed]",
      "text/plain": [
       "<Figure size 720x576 with 1 Axes>"
      ]
     },
     "metadata": {
      "needs_background": "light"
     },
     "output_type": "display_data"
    }
   ],
   "source": [
    "plt.figure(figsize=(10,8))\n",
    "sns.countplot(data=df_complete, x='completed_at_hour', order=df_complete['completed_at_hour'].value_counts().index, palette='Set2')\n",
    "plt.show()"
   ]
  },
  {
   "cell_type": "code",
   "execution_count": 38,
   "id": "38c847db",
   "metadata": {
    "ExecuteTime": {
     "end_time": "2022-05-18T00:05:36.756671Z",
     "start_time": "2022-05-18T00:05:36.725774Z"
    },
    "scrolled": true
   },
   "outputs": [
    {
     "data": {
      "text/html": [
       "<div>\n",
       "<style scoped>\n",
       "    .dataframe tbody tr th:only-of-type {\n",
       "        vertical-align: middle;\n",
       "    }\n",
       "\n",
       "    .dataframe tbody tr th {\n",
       "        vertical-align: top;\n",
       "    }\n",
       "\n",
       "    .dataframe thead th {\n",
       "        text-align: right;\n",
       "    }\n",
       "</style>\n",
       "<table border=\"1\" class=\"dataframe\">\n",
       "  <thead>\n",
       "    <tr style=\"text-align: right;\">\n",
       "      <th></th>\n",
       "      <th></th>\n",
       "      <th>transaction_amount</th>\n",
       "    </tr>\n",
       "    <tr>\n",
       "      <th>completed_at_hour</th>\n",
       "      <th>is_coupon</th>\n",
       "      <th></th>\n",
       "    </tr>\n",
       "  </thead>\n",
       "  <tbody>\n",
       "    <tr>\n",
       "      <th rowspan=\"2\" valign=\"top\">0</th>\n",
       "      <th>0</th>\n",
       "      <td>1007</td>\n",
       "    </tr>\n",
       "    <tr>\n",
       "      <th>1</th>\n",
       "      <td>855</td>\n",
       "    </tr>\n",
       "    <tr>\n",
       "      <th rowspan=\"2\" valign=\"top\">1</th>\n",
       "      <th>0</th>\n",
       "      <td>608</td>\n",
       "    </tr>\n",
       "    <tr>\n",
       "      <th>1</th>\n",
       "      <td>509</td>\n",
       "    </tr>\n",
       "    <tr>\n",
       "      <th rowspan=\"2\" valign=\"top\">10</th>\n",
       "      <th>0</th>\n",
       "      <td>2326</td>\n",
       "    </tr>\n",
       "    <tr>\n",
       "      <th>1</th>\n",
       "      <td>1495</td>\n",
       "    </tr>\n",
       "    <tr>\n",
       "      <th rowspan=\"2\" valign=\"top\">11</th>\n",
       "      <th>0</th>\n",
       "      <td>2203</td>\n",
       "    </tr>\n",
       "    <tr>\n",
       "      <th>1</th>\n",
       "      <td>1222</td>\n",
       "    </tr>\n",
       "    <tr>\n",
       "      <th rowspan=\"2\" valign=\"top\">12</th>\n",
       "      <th>0</th>\n",
       "      <td>1319</td>\n",
       "    </tr>\n",
       "    <tr>\n",
       "      <th>1</th>\n",
       "      <td>1044</td>\n",
       "    </tr>\n",
       "    <tr>\n",
       "      <th rowspan=\"2\" valign=\"top\">13</th>\n",
       "      <th>0</th>\n",
       "      <td>2164</td>\n",
       "    </tr>\n",
       "    <tr>\n",
       "      <th>1</th>\n",
       "      <td>1322</td>\n",
       "    </tr>\n",
       "    <tr>\n",
       "      <th rowspan=\"2\" valign=\"top\">14</th>\n",
       "      <th>0</th>\n",
       "      <td>2138</td>\n",
       "    </tr>\n",
       "    <tr>\n",
       "      <th>1</th>\n",
       "      <td>1314</td>\n",
       "    </tr>\n",
       "    <tr>\n",
       "      <th rowspan=\"2\" valign=\"top\">15</th>\n",
       "      <th>0</th>\n",
       "      <td>2404</td>\n",
       "    </tr>\n",
       "    <tr>\n",
       "      <th>1</th>\n",
       "      <td>1434</td>\n",
       "    </tr>\n",
       "    <tr>\n",
       "      <th rowspan=\"2\" valign=\"top\">16</th>\n",
       "      <th>0</th>\n",
       "      <td>2191</td>\n",
       "    </tr>\n",
       "    <tr>\n",
       "      <th>1</th>\n",
       "      <td>1436</td>\n",
       "    </tr>\n",
       "    <tr>\n",
       "      <th rowspan=\"2\" valign=\"top\">17</th>\n",
       "      <th>0</th>\n",
       "      <td>2041</td>\n",
       "    </tr>\n",
       "    <tr>\n",
       "      <th>1</th>\n",
       "      <td>1351</td>\n",
       "    </tr>\n",
       "    <tr>\n",
       "      <th rowspan=\"2\" valign=\"top\">18</th>\n",
       "      <th>0</th>\n",
       "      <td>1988</td>\n",
       "    </tr>\n",
       "    <tr>\n",
       "      <th>1</th>\n",
       "      <td>1358</td>\n",
       "    </tr>\n",
       "    <tr>\n",
       "      <th rowspan=\"2\" valign=\"top\">19</th>\n",
       "      <th>0</th>\n",
       "      <td>1541</td>\n",
       "    </tr>\n",
       "    <tr>\n",
       "      <th>1</th>\n",
       "      <td>1193</td>\n",
       "    </tr>\n",
       "    <tr>\n",
       "      <th rowspan=\"2\" valign=\"top\">2</th>\n",
       "      <th>0</th>\n",
       "      <td>458</td>\n",
       "    </tr>\n",
       "    <tr>\n",
       "      <th>1</th>\n",
       "      <td>301</td>\n",
       "    </tr>\n",
       "    <tr>\n",
       "      <th rowspan=\"2\" valign=\"top\">20</th>\n",
       "      <th>0</th>\n",
       "      <td>1615</td>\n",
       "    </tr>\n",
       "    <tr>\n",
       "      <th>1</th>\n",
       "      <td>1297</td>\n",
       "    </tr>\n",
       "    <tr>\n",
       "      <th rowspan=\"2\" valign=\"top\">21</th>\n",
       "      <th>0</th>\n",
       "      <td>1744</td>\n",
       "    </tr>\n",
       "    <tr>\n",
       "      <th>1</th>\n",
       "      <td>1647</td>\n",
       "    </tr>\n",
       "    <tr>\n",
       "      <th rowspan=\"2\" valign=\"top\">22</th>\n",
       "      <th>0</th>\n",
       "      <td>2079</td>\n",
       "    </tr>\n",
       "    <tr>\n",
       "      <th>1</th>\n",
       "      <td>1811</td>\n",
       "    </tr>\n",
       "    <tr>\n",
       "      <th rowspan=\"2\" valign=\"top\">23</th>\n",
       "      <th>0</th>\n",
       "      <td>2179</td>\n",
       "    </tr>\n",
       "    <tr>\n",
       "      <th>1</th>\n",
       "      <td>2004</td>\n",
       "    </tr>\n",
       "    <tr>\n",
       "      <th rowspan=\"2\" valign=\"top\">3</th>\n",
       "      <th>0</th>\n",
       "      <td>242</td>\n",
       "    </tr>\n",
       "    <tr>\n",
       "      <th>1</th>\n",
       "      <td>163</td>\n",
       "    </tr>\n",
       "    <tr>\n",
       "      <th rowspan=\"2\" valign=\"top\">4</th>\n",
       "      <th>0</th>\n",
       "      <td>153</td>\n",
       "    </tr>\n",
       "    <tr>\n",
       "      <th>1</th>\n",
       "      <td>109</td>\n",
       "    </tr>\n",
       "    <tr>\n",
       "      <th rowspan=\"2\" valign=\"top\">5</th>\n",
       "      <th>0</th>\n",
       "      <td>168</td>\n",
       "    </tr>\n",
       "    <tr>\n",
       "      <th>1</th>\n",
       "      <td>119</td>\n",
       "    </tr>\n",
       "    <tr>\n",
       "      <th rowspan=\"2\" valign=\"top\">6</th>\n",
       "      <th>0</th>\n",
       "      <td>267</td>\n",
       "    </tr>\n",
       "    <tr>\n",
       "      <th>1</th>\n",
       "      <td>166</td>\n",
       "    </tr>\n",
       "    <tr>\n",
       "      <th rowspan=\"2\" valign=\"top\">7</th>\n",
       "      <th>0</th>\n",
       "      <td>438</td>\n",
       "    </tr>\n",
       "    <tr>\n",
       "      <th>1</th>\n",
       "      <td>316</td>\n",
       "    </tr>\n",
       "    <tr>\n",
       "      <th rowspan=\"2\" valign=\"top\">8</th>\n",
       "      <th>0</th>\n",
       "      <td>644</td>\n",
       "    </tr>\n",
       "    <tr>\n",
       "      <th>1</th>\n",
       "      <td>515</td>\n",
       "    </tr>\n",
       "    <tr>\n",
       "      <th rowspan=\"2\" valign=\"top\">9</th>\n",
       "      <th>0</th>\n",
       "      <td>1058</td>\n",
       "    </tr>\n",
       "    <tr>\n",
       "      <th>1</th>\n",
       "      <td>782</td>\n",
       "    </tr>\n",
       "  </tbody>\n",
       "</table>\n",
       "</div>"
      ],
      "text/plain": [
       "                             transaction_amount\n",
       "completed_at_hour is_coupon                    \n",
       "0                 0                        1007\n",
       "                  1                         855\n",
       "1                 0                         608\n",
       "                  1                         509\n",
       "10                0                        2326\n",
       "                  1                        1495\n",
       "11                0                        2203\n",
       "                  1                        1222\n",
       "12                0                        1319\n",
       "                  1                        1044\n",
       "13                0                        2164\n",
       "                  1                        1322\n",
       "14                0                        2138\n",
       "                  1                        1314\n",
       "15                0                        2404\n",
       "                  1                        1434\n",
       "16                0                        2191\n",
       "                  1                        1436\n",
       "17                0                        2041\n",
       "                  1                        1351\n",
       "18                0                        1988\n",
       "                  1                        1358\n",
       "19                0                        1541\n",
       "                  1                        1193\n",
       "2                 0                         458\n",
       "                  1                         301\n",
       "20                0                        1615\n",
       "                  1                        1297\n",
       "21                0                        1744\n",
       "                  1                        1647\n",
       "22                0                        2079\n",
       "                  1                        1811\n",
       "23                0                        2179\n",
       "                  1                        2004\n",
       "3                 0                         242\n",
       "                  1                         163\n",
       "4                 0                         153\n",
       "                  1                         109\n",
       "5                 0                         168\n",
       "                  1                         119\n",
       "6                 0                         267\n",
       "                  1                         166\n",
       "7                 0                         438\n",
       "                  1                         316\n",
       "8                 0                         644\n",
       "                  1                         515\n",
       "9                 0                        1058\n",
       "                  1                         782"
      ]
     },
     "execution_count": 38,
     "metadata": {},
     "output_type": "execute_result"
    }
   ],
   "source": [
    "# 시간대별 쿠폰사용 유무\n",
    "\n",
    "pivot_h_coupon = df_complete.pivot_table(index=['completed_at_hour','is_coupon'], values='transaction_amount', aggfunc=('count'))\n",
    "pivot_h_coupon"
   ]
  },
  {
   "cell_type": "code",
   "execution_count": 39,
   "id": "386c7981",
   "metadata": {
    "ExecuteTime": {
     "end_time": "2022-05-18T00:05:36.772617Z",
     "start_time": "2022-05-18T00:05:36.757668Z"
    },
    "scrolled": true
   },
   "outputs": [
    {
     "data": {
      "text/plain": [
       "completed_at_hour  is_coupon\n",
       "0                  0            0.540816\n",
       "                   1            0.459184\n",
       "1                  0            0.544315\n",
       "                   1            0.455685\n",
       "10                 0            0.608741\n",
       "                   1            0.391259\n",
       "11                 0            0.643212\n",
       "                   1            0.356788\n",
       "12                 0            0.558189\n",
       "                   1            0.441811\n",
       "13                 0            0.620769\n",
       "                   1            0.379231\n",
       "14                 0            0.619351\n",
       "                   1            0.380649\n",
       "15                 0            0.626368\n",
       "                   1            0.373632\n",
       "16                 0            0.604081\n",
       "                   1            0.395919\n",
       "17                 0            0.601710\n",
       "                   1            0.398290\n",
       "18                 0            0.594142\n",
       "                   1            0.405858\n",
       "19                 0            0.563643\n",
       "                   1            0.436357\n",
       "2                  0            0.603426\n",
       "                   1            0.396574\n",
       "20                 0            0.554602\n",
       "                   1            0.445398\n",
       "21                 0            0.514303\n",
       "                   1            0.485697\n",
       "22                 0            0.534447\n",
       "                   1            0.465553\n",
       "23                 0            0.520918\n",
       "                   1            0.479082\n",
       "3                  0            0.597531\n",
       "                   1            0.402469\n",
       "4                  0            0.583969\n",
       "                   1            0.416031\n",
       "5                  0            0.585366\n",
       "                   1            0.414634\n",
       "6                  0            0.616628\n",
       "                   1            0.383372\n",
       "7                  0            0.580902\n",
       "                   1            0.419098\n",
       "8                  0            0.555651\n",
       "                   1            0.444349\n",
       "9                  0            0.575000\n",
       "                   1            0.425000\n",
       "Name: transaction_amount, dtype: float64"
      ]
     },
     "execution_count": 39,
     "metadata": {},
     "output_type": "execute_result"
    }
   ],
   "source": [
    "# 시간대별 쿠폰사용비율\n",
    "\n",
    "groupby_h_coupon = df_complete.groupby(['completed_at_hour','is_coupon'])['transaction_amount'].count()/df_complete.groupby(['completed_at_hour'])['transaction_amount'].count()\n",
    "groupby_h_coupon"
   ]
  },
  {
   "cell_type": "code",
   "execution_count": 40,
   "id": "eea22fae",
   "metadata": {
    "ExecuteTime": {
     "end_time": "2022-05-18T00:05:36.788564Z",
     "start_time": "2022-05-18T00:05:36.773614Z"
    }
   },
   "outputs": [
    {
     "name": "stdout",
     "output_type": "stream",
     "text": [
      "[0.5408163265306123, 0.5443151298119964, 0.6087411672337084, 0.6432116788321168, 0.5581887431231486, 0.6207687894434882, 0.619351100811124, 0.6263678999478896, 0.6040805073063138, 0.6017099056603774, 0.5941422594142259, 0.563643013899049, 0.6034255599472991, 0.5546016483516484, 0.5143025656148629, 0.5344473007712083, 0.5209180014343773, 0.5975308641975309, 0.583969465648855, 0.5853658536585366, 0.6166281755196305, 0.5809018567639257, 0.5556514236410699, 0.575]\n",
      "[0.45918367346938777, 0.4556848701880036, 0.39125883276629153, 0.3567883211678832, 0.44181125687685147, 0.37923121055651177, 0.380648899188876, 0.37363210005211045, 0.39591949269368626, 0.39829009433962265, 0.40585774058577406, 0.43635698610095097, 0.3965744400527009, 0.4453983516483517, 0.48569743438513713, 0.4655526992287918, 0.4790819985656228, 0.4024691358024691, 0.41603053435114506, 0.4146341463414634, 0.3833718244803695, 0.41909814323607425, 0.4443485763589301, 0.425]\n"
     ]
    }
   ],
   "source": [
    "h_no_coupon_value=[]\n",
    "h_use_coupon_value=[]\n",
    "h_labels=['0','1','10','11','12','13','14','15','16','17','18','19','2','20','21','22','23','3','4','5','6','7','8','9']\n",
    "\n",
    "for idx in range(0,len(groupby_h_coupon),2):\n",
    "    h_no_coupon_value.append(groupby_h_coupon.iloc[idx])\n",
    "\n",
    "for idx in range(1,len(groupby_h_coupon),2):\n",
    "    h_use_coupon_value.append(groupby_h_coupon[idx])\n",
    "    \n",
    "print(h_no_coupon_value)\n",
    "print(h_use_coupon_value)"
   ]
  },
  {
   "cell_type": "code",
   "execution_count": 41,
   "id": "eed7e452",
   "metadata": {
    "ExecuteTime": {
     "end_time": "2022-05-18T00:05:36.804511Z",
     "start_time": "2022-05-18T00:05:36.789561Z"
    },
    "scrolled": true
   },
   "outputs": [
    {
     "data": {
      "text/html": [
       "<div>\n",
       "<style scoped>\n",
       "    .dataframe tbody tr th:only-of-type {\n",
       "        vertical-align: middle;\n",
       "    }\n",
       "\n",
       "    .dataframe tbody tr th {\n",
       "        vertical-align: top;\n",
       "    }\n",
       "\n",
       "    .dataframe thead th {\n",
       "        text-align: right;\n",
       "    }\n",
       "</style>\n",
       "<table border=\"1\" class=\"dataframe\">\n",
       "  <thead>\n",
       "    <tr style=\"text-align: right;\">\n",
       "      <th></th>\n",
       "      <th>hour</th>\n",
       "      <th>not use coupon</th>\n",
       "      <th>use coupon</th>\n",
       "    </tr>\n",
       "  </thead>\n",
       "  <tbody>\n",
       "    <tr>\n",
       "      <th>0</th>\n",
       "      <td>0</td>\n",
       "      <td>0.540816</td>\n",
       "      <td>0.459184</td>\n",
       "    </tr>\n",
       "    <tr>\n",
       "      <th>1</th>\n",
       "      <td>1</td>\n",
       "      <td>0.544315</td>\n",
       "      <td>0.455685</td>\n",
       "    </tr>\n",
       "    <tr>\n",
       "      <th>2</th>\n",
       "      <td>10</td>\n",
       "      <td>0.608741</td>\n",
       "      <td>0.391259</td>\n",
       "    </tr>\n",
       "    <tr>\n",
       "      <th>3</th>\n",
       "      <td>11</td>\n",
       "      <td>0.643212</td>\n",
       "      <td>0.356788</td>\n",
       "    </tr>\n",
       "    <tr>\n",
       "      <th>4</th>\n",
       "      <td>12</td>\n",
       "      <td>0.558189</td>\n",
       "      <td>0.441811</td>\n",
       "    </tr>\n",
       "    <tr>\n",
       "      <th>5</th>\n",
       "      <td>13</td>\n",
       "      <td>0.620769</td>\n",
       "      <td>0.379231</td>\n",
       "    </tr>\n",
       "    <tr>\n",
       "      <th>6</th>\n",
       "      <td>14</td>\n",
       "      <td>0.619351</td>\n",
       "      <td>0.380649</td>\n",
       "    </tr>\n",
       "    <tr>\n",
       "      <th>7</th>\n",
       "      <td>15</td>\n",
       "      <td>0.626368</td>\n",
       "      <td>0.373632</td>\n",
       "    </tr>\n",
       "    <tr>\n",
       "      <th>8</th>\n",
       "      <td>16</td>\n",
       "      <td>0.604081</td>\n",
       "      <td>0.395919</td>\n",
       "    </tr>\n",
       "    <tr>\n",
       "      <th>9</th>\n",
       "      <td>17</td>\n",
       "      <td>0.601710</td>\n",
       "      <td>0.398290</td>\n",
       "    </tr>\n",
       "    <tr>\n",
       "      <th>10</th>\n",
       "      <td>18</td>\n",
       "      <td>0.594142</td>\n",
       "      <td>0.405858</td>\n",
       "    </tr>\n",
       "    <tr>\n",
       "      <th>11</th>\n",
       "      <td>19</td>\n",
       "      <td>0.563643</td>\n",
       "      <td>0.436357</td>\n",
       "    </tr>\n",
       "    <tr>\n",
       "      <th>12</th>\n",
       "      <td>2</td>\n",
       "      <td>0.603426</td>\n",
       "      <td>0.396574</td>\n",
       "    </tr>\n",
       "    <tr>\n",
       "      <th>13</th>\n",
       "      <td>20</td>\n",
       "      <td>0.554602</td>\n",
       "      <td>0.445398</td>\n",
       "    </tr>\n",
       "    <tr>\n",
       "      <th>14</th>\n",
       "      <td>21</td>\n",
       "      <td>0.514303</td>\n",
       "      <td>0.485697</td>\n",
       "    </tr>\n",
       "    <tr>\n",
       "      <th>15</th>\n",
       "      <td>22</td>\n",
       "      <td>0.534447</td>\n",
       "      <td>0.465553</td>\n",
       "    </tr>\n",
       "    <tr>\n",
       "      <th>16</th>\n",
       "      <td>23</td>\n",
       "      <td>0.520918</td>\n",
       "      <td>0.479082</td>\n",
       "    </tr>\n",
       "    <tr>\n",
       "      <th>17</th>\n",
       "      <td>3</td>\n",
       "      <td>0.597531</td>\n",
       "      <td>0.402469</td>\n",
       "    </tr>\n",
       "    <tr>\n",
       "      <th>18</th>\n",
       "      <td>4</td>\n",
       "      <td>0.583969</td>\n",
       "      <td>0.416031</td>\n",
       "    </tr>\n",
       "    <tr>\n",
       "      <th>19</th>\n",
       "      <td>5</td>\n",
       "      <td>0.585366</td>\n",
       "      <td>0.414634</td>\n",
       "    </tr>\n",
       "    <tr>\n",
       "      <th>20</th>\n",
       "      <td>6</td>\n",
       "      <td>0.616628</td>\n",
       "      <td>0.383372</td>\n",
       "    </tr>\n",
       "    <tr>\n",
       "      <th>21</th>\n",
       "      <td>7</td>\n",
       "      <td>0.580902</td>\n",
       "      <td>0.419098</td>\n",
       "    </tr>\n",
       "    <tr>\n",
       "      <th>22</th>\n",
       "      <td>8</td>\n",
       "      <td>0.555651</td>\n",
       "      <td>0.444349</td>\n",
       "    </tr>\n",
       "    <tr>\n",
       "      <th>23</th>\n",
       "      <td>9</td>\n",
       "      <td>0.575000</td>\n",
       "      <td>0.425000</td>\n",
       "    </tr>\n",
       "  </tbody>\n",
       "</table>\n",
       "</div>"
      ],
      "text/plain": [
       "   hour  not use coupon  use coupon\n",
       "0     0        0.540816    0.459184\n",
       "1     1        0.544315    0.455685\n",
       "2    10        0.608741    0.391259\n",
       "3    11        0.643212    0.356788\n",
       "4    12        0.558189    0.441811\n",
       "5    13        0.620769    0.379231\n",
       "6    14        0.619351    0.380649\n",
       "7    15        0.626368    0.373632\n",
       "8    16        0.604081    0.395919\n",
       "9    17        0.601710    0.398290\n",
       "10   18        0.594142    0.405858\n",
       "11   19        0.563643    0.436357\n",
       "12    2        0.603426    0.396574\n",
       "13   20        0.554602    0.445398\n",
       "14   21        0.514303    0.485697\n",
       "15   22        0.534447    0.465553\n",
       "16   23        0.520918    0.479082\n",
       "17    3        0.597531    0.402469\n",
       "18    4        0.583969    0.416031\n",
       "19    5        0.585366    0.414634\n",
       "20    6        0.616628    0.383372\n",
       "21    7        0.580902    0.419098\n",
       "22    8        0.555651    0.444349\n",
       "23    9        0.575000    0.425000"
      ]
     },
     "execution_count": 41,
     "metadata": {},
     "output_type": "execute_result"
    }
   ],
   "source": [
    "h_coupon_rate = pd.DataFrame((zip(h_labels, h_no_coupon_value, h_use_coupon_value)), columns=['hour','not use coupon','use coupon'])\n",
    "h_coupon_rate"
   ]
  },
  {
   "cell_type": "code",
   "execution_count": 42,
   "id": "7e81dd6e",
   "metadata": {
    "ExecuteTime": {
     "end_time": "2022-05-18T00:05:37.099525Z",
     "start_time": "2022-05-18T00:05:36.805507Z"
    }
   },
   "outputs": [
    {
     "data": {
      "image/png": "[encoded data removed]",
      "text/plain": [
       "<Figure size 1440x1440 with 2 Axes>"
      ]
     },
     "metadata": {},
     "output_type": "display_data"
    }
   ],
   "source": [
    "plt.figure(figsize=(20,20))\n",
    "plt.subplot(1,2,1)\n",
    "plt.title('not use coupon', fontsize=20)\n",
    "plt.pie(h_no_coupon_value, labels=h_labels, autopct='%.1f%%',colors=colors, counterclock=False, textprops={'fontsize':13})\n",
    "\n",
    "plt.subplot(1,2,2)\n",
    "plt.title('use coupon', fontsize=20)\n",
    "plt.pie(h_use_coupon_value, labels=h_labels, autopct='%.1f%%',colors=colors, counterclock=False, textprops={'fontsize':13})\n",
    "\n",
    "plt.show()"
   ]
  },
  {
   "cell_type": "code",
   "execution_count": 43,
   "id": "3e133aa9",
   "metadata": {
    "ExecuteTime": {
     "end_time": "2022-05-18T00:05:37.351681Z",
     "start_time": "2022-05-18T00:05:37.100521Z"
    }
   },
   "outputs": [
    {
     "data": {
      "image/png": "[encoded data removed]",
      "text/plain": [
       "<Figure size 1008x864 with 2 Axes>"
      ]
     },
     "metadata": {
      "needs_background": "light"
     },
     "output_type": "display_data"
    }
   ],
   "source": [
    "plt.figure(figsize=(14,12))\n",
    "plt.subplot(2,1,1)\n",
    "sns.barplot(data=h_coupon_rate, x='hour', y='not use coupon', palette='Set2', order=h_coupon_rate.sort_values('not use coupon').hour)\n",
    "\n",
    "plt.subplot(2,1,2)\n",
    "sns.barplot(data=h_coupon_rate, x='hour', y='use coupon', palette='Set2',order=h_coupon_rate.sort_values('use coupon').hour)\n",
    "\n",
    "plt.show()"
   ]
  },
  {
   "cell_type": "code",
   "execution_count": 44,
   "id": "6d077a2c",
   "metadata": {
    "ExecuteTime": {
     "end_time": "2022-05-18T00:05:37.366631Z",
     "start_time": "2022-05-18T00:05:37.352678Z"
    },
    "scrolled": true
   },
   "outputs": [
    {
     "data": {
      "text/html": [
       "<div>\n",
       "<style scoped>\n",
       "    .dataframe tbody tr th:only-of-type {\n",
       "        vertical-align: middle;\n",
       "    }\n",
       "\n",
       "    .dataframe tbody tr th {\n",
       "        vertical-align: top;\n",
       "    }\n",
       "\n",
       "    .dataframe thead th {\n",
       "        text-align: right;\n",
       "    }\n",
       "</style>\n",
       "<table border=\"1\" class=\"dataframe\">\n",
       "  <thead>\n",
       "    <tr style=\"text-align: right;\">\n",
       "      <th></th>\n",
       "      <th>transaction_amount</th>\n",
       "    </tr>\n",
       "    <tr>\n",
       "      <th>completed_at_hour</th>\n",
       "      <th></th>\n",
       "    </tr>\n",
       "  </thead>\n",
       "  <tbody>\n",
       "    <tr>\n",
       "      <th>0</th>\n",
       "      <td>241871073</td>\n",
       "    </tr>\n",
       "    <tr>\n",
       "      <th>1</th>\n",
       "      <td>139545550</td>\n",
       "    </tr>\n",
       "    <tr>\n",
       "      <th>10</th>\n",
       "      <td>297892385</td>\n",
       "    </tr>\n",
       "    <tr>\n",
       "      <th>11</th>\n",
       "      <td>320754241</td>\n",
       "    </tr>\n",
       "    <tr>\n",
       "      <th>12</th>\n",
       "      <td>371238878</td>\n",
       "    </tr>\n",
       "    <tr>\n",
       "      <th>13</th>\n",
       "      <td>366239490</td>\n",
       "    </tr>\n",
       "    <tr>\n",
       "      <th>14</th>\n",
       "      <td>618952145</td>\n",
       "    </tr>\n",
       "    <tr>\n",
       "      <th>15</th>\n",
       "      <td>953598041</td>\n",
       "    </tr>\n",
       "    <tr>\n",
       "      <th>16</th>\n",
       "      <td>568903970</td>\n",
       "    </tr>\n",
       "    <tr>\n",
       "      <th>17</th>\n",
       "      <td>462349581</td>\n",
       "    </tr>\n",
       "    <tr>\n",
       "      <th>18</th>\n",
       "      <td>378366334</td>\n",
       "    </tr>\n",
       "    <tr>\n",
       "      <th>19</th>\n",
       "      <td>347640325</td>\n",
       "    </tr>\n",
       "    <tr>\n",
       "      <th>2</th>\n",
       "      <td>98017755</td>\n",
       "    </tr>\n",
       "    <tr>\n",
       "      <th>20</th>\n",
       "      <td>383844175</td>\n",
       "    </tr>\n",
       "    <tr>\n",
       "      <th>21</th>\n",
       "      <td>447752100</td>\n",
       "    </tr>\n",
       "    <tr>\n",
       "      <th>22</th>\n",
       "      <td>522878470</td>\n",
       "    </tr>\n",
       "    <tr>\n",
       "      <th>23</th>\n",
       "      <td>574244415</td>\n",
       "    </tr>\n",
       "    <tr>\n",
       "      <th>3</th>\n",
       "      <td>59604450</td>\n",
       "    </tr>\n",
       "    <tr>\n",
       "      <th>4</th>\n",
       "      <td>115458600</td>\n",
       "    </tr>\n",
       "    <tr>\n",
       "      <th>5</th>\n",
       "      <td>37246265</td>\n",
       "    </tr>\n",
       "    <tr>\n",
       "      <th>6</th>\n",
       "      <td>56003180</td>\n",
       "    </tr>\n",
       "    <tr>\n",
       "      <th>7</th>\n",
       "      <td>100169448</td>\n",
       "    </tr>\n",
       "    <tr>\n",
       "      <th>8</th>\n",
       "      <td>158222820</td>\n",
       "    </tr>\n",
       "    <tr>\n",
       "      <th>9</th>\n",
       "      <td>393813466</td>\n",
       "    </tr>\n",
       "  </tbody>\n",
       "</table>\n",
       "</div>"
      ],
      "text/plain": [
       "                   transaction_amount\n",
       "completed_at_hour                    \n",
       "0                           241871073\n",
       "1                           139545550\n",
       "10                          297892385\n",
       "11                          320754241\n",
       "12                          371238878\n",
       "13                          366239490\n",
       "14                          618952145\n",
       "15                          953598041\n",
       "16                          568903970\n",
       "17                          462349581\n",
       "18                          378366334\n",
       "19                          347640325\n",
       "2                            98017755\n",
       "20                          383844175\n",
       "21                          447752100\n",
       "22                          522878470\n",
       "23                          574244415\n",
       "3                            59604450\n",
       "4                           115458600\n",
       "5                            37246265\n",
       "6                            56003180\n",
       "7                           100169448\n",
       "8                           158222820\n",
       "9                           393813466"
      ]
     },
     "execution_count": 44,
     "metadata": {},
     "output_type": "execute_result"
    }
   ],
   "source": [
    "# 총 판매금액\n",
    "\n",
    "df2 = df_complete.pivot_table(index='completed_at_hour', values='transaction_amount', aggfunc='sum')\n",
    "df2"
   ]
  },
  {
   "cell_type": "code",
   "execution_count": 45,
   "id": "40799f99",
   "metadata": {
    "ExecuteTime": {
     "end_time": "2022-05-18T00:05:37.490218Z",
     "start_time": "2022-05-18T00:05:37.367628Z"
    }
   },
   "outputs": [
    {
     "data": {
      "text/plain": [
       "<AxesSubplot:xlabel='completed_at_hour'>"
      ]
     },
     "execution_count": 45,
     "metadata": {},
     "output_type": "execute_result"
    },
    {
     "data": {
      "image/png": "[encoded data removed]",
      "text/plain": [
       "<Figure size 1008x576 with 1 Axes>"
      ]
     },
     "metadata": {
      "needs_background": "light"
     },
     "output_type": "display_data"
    }
   ],
   "source": [
    "df2.plot(kind='bar', figsize=(14,8), sort_columns=True, rot=0)"
   ]
  },
  {
   "cell_type": "markdown",
   "id": "189c1d08",
   "metadata": {},
   "source": [
    "## 기업강의"
   ]
  },
  {
   "cell_type": "code",
   "execution_count": 46,
   "id": "8301602a",
   "metadata": {
    "ExecuteTime": {
     "end_time": "2022-05-18T00:05:37.506167Z",
     "start_time": "2022-05-18T00:05:37.491215Z"
    }
   },
   "outputs": [
    {
     "data": {
      "text/plain": [
       "올인원        46554\n",
       "RED         3383\n",
       "온라인 완주반     1673\n",
       "하루10분컷      1371\n",
       "스쿨          1036\n",
       "B2B 온라인      984\n",
       "스쿨 온라인       643\n",
       "B2B          485\n",
       "B2G          434\n",
       "이벤트           89\n",
       "아카이브          35\n",
       "캠프            25\n",
       "MBA           23\n",
       "관리             1\n",
       "온라인            1\n",
       "Name: format, dtype: int64"
      ]
     },
     "execution_count": 46,
     "metadata": {},
     "output_type": "execute_result"
    }
   ],
   "source": [
    "df_complete.format.value_counts()"
   ]
  },
  {
   "cell_type": "code",
   "execution_count": 47,
   "id": "c25f53df",
   "metadata": {
    "ExecuteTime": {
     "end_time": "2022-05-18T00:05:37.521117Z",
     "start_time": "2022-05-18T00:05:37.507161Z"
    },
    "scrolled": false
   },
   "outputs": [
    {
     "data": {
      "text/html": [
       "<div>\n",
       "<style scoped>\n",
       "    .dataframe tbody tr th:only-of-type {\n",
       "        vertical-align: middle;\n",
       "    }\n",
       "\n",
       "    .dataframe tbody tr th {\n",
       "        vertical-align: top;\n",
       "    }\n",
       "\n",
       "    .dataframe thead th {\n",
       "        text-align: right;\n",
       "    }\n",
       "</style>\n",
       "<table border=\"1\" class=\"dataframe\">\n",
       "  <thead>\n",
       "    <tr style=\"text-align: right;\">\n",
       "      <th></th>\n",
       "      <th>transaction_amount</th>\n",
       "    </tr>\n",
       "    <tr>\n",
       "      <th>format</th>\n",
       "      <th></th>\n",
       "    </tr>\n",
       "  </thead>\n",
       "  <tbody>\n",
       "    <tr>\n",
       "      <th>B2B</th>\n",
       "      <td>752727790</td>\n",
       "    </tr>\n",
       "    <tr>\n",
       "      <th>B2B 온라인</th>\n",
       "      <td>1228768319</td>\n",
       "    </tr>\n",
       "    <tr>\n",
       "      <th>B2G</th>\n",
       "      <td>28921300</td>\n",
       "    </tr>\n",
       "    <tr>\n",
       "      <th>MBA</th>\n",
       "      <td>4970000</td>\n",
       "    </tr>\n",
       "    <tr>\n",
       "      <th>RED</th>\n",
       "      <td>481432363</td>\n",
       "    </tr>\n",
       "    <tr>\n",
       "      <th>관리</th>\n",
       "      <td>150000</td>\n",
       "    </tr>\n",
       "    <tr>\n",
       "      <th>스쿨</th>\n",
       "      <td>-1285346</td>\n",
       "    </tr>\n",
       "    <tr>\n",
       "      <th>스쿨 온라인</th>\n",
       "      <td>38529132</td>\n",
       "    </tr>\n",
       "    <tr>\n",
       "      <th>아카이브</th>\n",
       "      <td>1895700</td>\n",
       "    </tr>\n",
       "    <tr>\n",
       "      <th>온라인</th>\n",
       "      <td>-199000</td>\n",
       "    </tr>\n",
       "    <tr>\n",
       "      <th>온라인 완주반</th>\n",
       "      <td>417656060</td>\n",
       "    </tr>\n",
       "    <tr>\n",
       "      <th>올인원</th>\n",
       "      <td>5000345033</td>\n",
       "    </tr>\n",
       "    <tr>\n",
       "      <th>이벤트</th>\n",
       "      <td>4398000</td>\n",
       "    </tr>\n",
       "    <tr>\n",
       "      <th>캠프</th>\n",
       "      <td>19071500</td>\n",
       "    </tr>\n",
       "    <tr>\n",
       "      <th>하루10분컷</th>\n",
       "      <td>26726306</td>\n",
       "    </tr>\n",
       "  </tbody>\n",
       "</table>\n",
       "</div>"
      ],
      "text/plain": [
       "         transaction_amount\n",
       "format                     \n",
       "B2B               752727790\n",
       "B2B 온라인          1228768319\n",
       "B2G                28921300\n",
       "MBA                 4970000\n",
       "RED               481432363\n",
       "관리                   150000\n",
       "스쿨                 -1285346\n",
       "스쿨 온라인             38529132\n",
       "아카이브                1895700\n",
       "온라인                 -199000\n",
       "온라인 완주반           417656060\n",
       "올인원              5000345033\n",
       "이벤트                 4398000\n",
       "캠프                 19071500\n",
       "하루10분컷             26726306"
      ]
     },
     "execution_count": 47,
     "metadata": {},
     "output_type": "execute_result"
    }
   ],
   "source": [
    "df_complete.pivot_table(index='format', values='transaction_amount', aggfunc='sum')"
   ]
  },
  {
   "cell_type": "code",
   "execution_count": 48,
   "id": "071d3081",
   "metadata": {
    "ExecuteTime": {
     "end_time": "2022-05-18T00:05:37.537062Z",
     "start_time": "2022-05-18T00:05:37.522111Z"
    }
   },
   "outputs": [
    {
     "data": {
      "text/plain": [
       "7    393\n",
       "8    355\n",
       "6    226\n",
       "4    219\n",
       "9    135\n",
       "5    107\n",
       "3     34\n",
       "Name: completed_at_month, dtype: int64"
      ]
     },
     "execution_count": 48,
     "metadata": {},
     "output_type": "execute_result"
    }
   ],
   "source": [
    "df_complete[ (df_complete.format == 'B2B 온라인') | (df_complete.format == 'B2B')]['completed_at_month'].value_counts()"
   ]
  },
  {
   "cell_type": "code",
   "execution_count": 61,
   "id": "d7b31acc",
   "metadata": {
    "ExecuteTime": {
     "end_time": "2022-05-18T00:17:13.425070Z",
     "start_time": "2022-05-18T00:17:13.416140Z"
    }
   },
   "outputs": [
    {
     "data": {
      "text/plain": [
       "월요일    10632\n",
       "화요일     8710\n",
       "수요일     8705\n",
       "금요일     8666\n",
       "일요일     7668\n",
       "목요일     7259\n",
       "토요일     5098\n",
       "Name: completed_at_day, dtype: int64"
      ]
     },
     "execution_count": 61,
     "metadata": {},
     "output_type": "execute_result"
    }
   ],
   "source": [
    "df_complete['completed_at_day'].value_counts()"
   ]
  },
  {
   "cell_type": "code",
   "execution_count": 49,
   "id": "9f30c566",
   "metadata": {
    "ExecuteTime": {
     "end_time": "2022-05-18T00:05:37.552011Z",
     "start_time": "2022-05-18T00:05:37.538058Z"
    }
   },
   "outputs": [
    {
     "data": {
      "text/plain": [
       "수요일    441\n",
       "월요일    264\n",
       "목요일    249\n",
       "금요일    244\n",
       "화요일    242\n",
       "일요일     15\n",
       "토요일     14\n",
       "Name: completed_at_day, dtype: int64"
      ]
     },
     "execution_count": 49,
     "metadata": {},
     "output_type": "execute_result"
    }
   ],
   "source": [
    "df_complete[ (df_complete.format == 'B2B 온라인') | (df_complete.format == 'B2B')]['completed_at_day'].value_counts()"
   ]
  },
  {
   "cell_type": "code",
   "execution_count": 50,
   "id": "bd6db4af",
   "metadata": {
    "ExecuteTime": {
     "end_time": "2022-05-18T00:05:37.567958Z",
     "start_time": "2022-05-18T00:05:37.553008Z"
    },
    "scrolled": true
   },
   "outputs": [
    {
     "data": {
      "text/plain": [
       "15    408\n",
       "16    136\n",
       "14    133\n",
       "11    115\n",
       "13    111\n",
       "17    107\n",
       "10    100\n",
       "18     66\n",
       "12     59\n",
       "9      46\n",
       "19     39\n",
       "22     29\n",
       "20     28\n",
       "21     25\n",
       "23     16\n",
       "1      11\n",
       "0      10\n",
       "8       9\n",
       "2       5\n",
       "7       5\n",
       "5       4\n",
       "4       3\n",
       "6       2\n",
       "3       2\n",
       "Name: completed_at_hour, dtype: int64"
      ]
     },
     "execution_count": 50,
     "metadata": {},
     "output_type": "execute_result"
    }
   ],
   "source": [
    "df_complete[ (df_complete.format == 'B2B 온라인') | (df_complete.format == 'B2B')]['completed_at_hour'].value_counts()"
   ]
  },
  {
   "cell_type": "markdown",
   "id": "fc49651c",
   "metadata": {
    "ExecuteTime": {
     "end_time": "2022-05-18T00:36:02.990322Z",
     "start_time": "2022-05-18T00:36:02.971386Z"
    }
   },
   "source": [
    "## 패키지 판매"
   ]
  },
  {
   "cell_type": "code",
   "execution_count": 166,
   "id": "b0381ceb",
   "metadata": {
    "ExecuteTime": {
     "end_time": "2022-05-18T01:43:14.120371Z",
     "start_time": "2022-05-18T01:43:14.079926Z"
    },
    "scrolled": false
   },
   "outputs": [
    {
     "data": {
      "text/html": [
       "<div>\n",
       "<style scoped>\n",
       "    .dataframe tbody tr th:only-of-type {\n",
       "        vertical-align: middle;\n",
       "    }\n",
       "\n",
       "    .dataframe tbody tr th {\n",
       "        vertical-align: top;\n",
       "    }\n",
       "\n",
       "    .dataframe thead th {\n",
       "        text-align: right;\n",
       "    }\n",
       "</style>\n",
       "<table border=\"1\" class=\"dataframe\">\n",
       "  <thead>\n",
       "    <tr style=\"text-align: right;\">\n",
       "      <th></th>\n",
       "      <th>id</th>\n",
       "      <th>customer_id</th>\n",
       "      <th>course_id</th>\n",
       "      <th>type</th>\n",
       "      <th>state</th>\n",
       "      <th>course_title</th>\n",
       "      <th>category_title</th>\n",
       "      <th>format</th>\n",
       "      <th>transaction_amount</th>\n",
       "      <th>coupon_title</th>\n",
       "      <th>coupon_discount_amount</th>\n",
       "      <th>sale_price</th>\n",
       "      <th>completed_at</th>\n",
       "      <th>completed_at_month</th>\n",
       "      <th>is_coupon</th>\n",
       "      <th>completed_at_day</th>\n",
       "      <th>completed_at_hour</th>\n",
       "    </tr>\n",
       "  </thead>\n",
       "  <tbody>\n",
       "    <tr>\n",
       "      <th>4</th>\n",
       "      <td>970658</td>\n",
       "      <td>478028.0</td>\n",
       "      <td>201797.0</td>\n",
       "      <td>PAYMENT</td>\n",
       "      <td>COMPLETED</td>\n",
       "      <td>올인원 패키지 : 직장인 필수 스킬 3종 세트 MAX</td>\n",
       "      <td>업무 생산성</td>\n",
       "      <td>올인원</td>\n",
       "      <td>97500</td>\n",
       "      <td>[웰컴쿠폰] 올인원 패키지 2만원 할인 쿠폰</td>\n",
       "      <td>20000.0</td>\n",
       "      <td>117500.0</td>\n",
       "      <td>2021-03-28 15:21:54</td>\n",
       "      <td>3</td>\n",
       "      <td>1</td>\n",
       "      <td>일요일</td>\n",
       "      <td>15</td>\n",
       "    </tr>\n",
       "    <tr>\n",
       "      <th>8</th>\n",
       "      <td>970669</td>\n",
       "      <td>478033.0</td>\n",
       "      <td>203178.0</td>\n",
       "      <td>PAYMENT</td>\n",
       "      <td>COMPLETED</td>\n",
       "      <td>초격차 패키지 : 한번에 끝내는 영상 촬영과 편집</td>\n",
       "      <td>영상/3D</td>\n",
       "      <td>올인원</td>\n",
       "      <td>96000</td>\n",
       "      <td>[웰컴쿠폰] 올인원 패키지 2만원 할인 쿠폰</td>\n",
       "      <td>20000.0</td>\n",
       "      <td>116000.0</td>\n",
       "      <td>2021-03-28 15:26:47</td>\n",
       "      <td>3</td>\n",
       "      <td>1</td>\n",
       "      <td>일요일</td>\n",
       "      <td>15</td>\n",
       "    </tr>\n",
       "    <tr>\n",
       "      <th>10</th>\n",
       "      <td>970671</td>\n",
       "      <td>469860.0</td>\n",
       "      <td>203644.0</td>\n",
       "      <td>PAYMENT</td>\n",
       "      <td>COMPLETED</td>\n",
       "      <td>올인원 패키지 : 권오상의 금융 아카데미 - 권오상의 재무제표 분석 기초(평생소장)</td>\n",
       "      <td>부동산/금융</td>\n",
       "      <td>올인원</td>\n",
       "      <td>263000</td>\n",
       "      <td>NaN</td>\n",
       "      <td>NaN</td>\n",
       "      <td>263000.0</td>\n",
       "      <td>2021-03-28 15:27:17</td>\n",
       "      <td>3</td>\n",
       "      <td>0</td>\n",
       "      <td>일요일</td>\n",
       "      <td>15</td>\n",
       "    </tr>\n",
       "    <tr>\n",
       "      <th>14</th>\n",
       "      <td>970676</td>\n",
       "      <td>478035.0</td>\n",
       "      <td>203720.0</td>\n",
       "      <td>PAYMENT</td>\n",
       "      <td>COMPLETED</td>\n",
       "      <td>초격차 패키지 : 한 번에 끝내는 프론트엔드 개발</td>\n",
       "      <td>프로그래밍</td>\n",
       "      <td>올인원</td>\n",
       "      <td>91000</td>\n",
       "      <td>[웰컴쿠폰] 올인원 패키지 2만원 할인 쿠폰</td>\n",
       "      <td>20000.0</td>\n",
       "      <td>111000.0</td>\n",
       "      <td>2021-03-28 15:31:01</td>\n",
       "      <td>3</td>\n",
       "      <td>1</td>\n",
       "      <td>일요일</td>\n",
       "      <td>15</td>\n",
       "    </tr>\n",
       "    <tr>\n",
       "      <th>28</th>\n",
       "      <td>970704</td>\n",
       "      <td>471759.0</td>\n",
       "      <td>204068.0</td>\n",
       "      <td>PAYMENT</td>\n",
       "      <td>COMPLETED</td>\n",
       "      <td>올인원 패키지 : 마디아의 UX/UI 포트폴리오</td>\n",
       "      <td>디자인</td>\n",
       "      <td>올인원</td>\n",
       "      <td>89000</td>\n",
       "      <td>[웰컴쿠폰] 올인원 패키지 1만원 할인 쿠폰</td>\n",
       "      <td>10000.0</td>\n",
       "      <td>99000.0</td>\n",
       "      <td>2021-03-28 15:46:22</td>\n",
       "      <td>3</td>\n",
       "      <td>1</td>\n",
       "      <td>일요일</td>\n",
       "      <td>15</td>\n",
       "    </tr>\n",
       "    <tr>\n",
       "      <th>...</th>\n",
       "      <td>...</td>\n",
       "      <td>...</td>\n",
       "      <td>...</td>\n",
       "      <td>...</td>\n",
       "      <td>...</td>\n",
       "      <td>...</td>\n",
       "      <td>...</td>\n",
       "      <td>...</td>\n",
       "      <td>...</td>\n",
       "      <td>...</td>\n",
       "      <td>...</td>\n",
       "      <td>...</td>\n",
       "      <td>...</td>\n",
       "      <td>...</td>\n",
       "      <td>...</td>\n",
       "      <td>...</td>\n",
       "      <td>...</td>\n",
       "    </tr>\n",
       "    <tr>\n",
       "      <th>105406</th>\n",
       "      <td>1364929</td>\n",
       "      <td>120686.0</td>\n",
       "      <td>111111.0</td>\n",
       "      <td>PAYMENT</td>\n",
       "      <td>COMPLETED</td>\n",
       "      <td>[한정판매] 자연어 A-Z 끝장 패키지(~9월)</td>\n",
       "      <td>데이터사이언스</td>\n",
       "      <td>올인원</td>\n",
       "      <td>481000</td>\n",
       "      <td>NaN</td>\n",
       "      <td>NaN</td>\n",
       "      <td>481000.0</td>\n",
       "      <td>2021-09-25 12:29:39</td>\n",
       "      <td>9</td>\n",
       "      <td>0</td>\n",
       "      <td>토요일</td>\n",
       "      <td>12</td>\n",
       "    </tr>\n",
       "    <tr>\n",
       "      <th>105411</th>\n",
       "      <td>1364969</td>\n",
       "      <td>669238.0</td>\n",
       "      <td>204286.0</td>\n",
       "      <td>PAYMENT</td>\n",
       "      <td>COMPLETED</td>\n",
       "      <td>초격차 패키지 : 한번에 끝내는 3D 디자인 툴</td>\n",
       "      <td>디자인</td>\n",
       "      <td>올인원</td>\n",
       "      <td>212000</td>\n",
       "      <td>[미래투자금] 온라인 강의 2만원 할인쿠폰</td>\n",
       "      <td>20000.0</td>\n",
       "      <td>232000.0</td>\n",
       "      <td>2021-09-25 13:39:26</td>\n",
       "      <td>9</td>\n",
       "      <td>1</td>\n",
       "      <td>토요일</td>\n",
       "      <td>13</td>\n",
       "    </tr>\n",
       "    <tr>\n",
       "      <th>105412</th>\n",
       "      <td>1364976</td>\n",
       "      <td>384003.0</td>\n",
       "      <td>203178.0</td>\n",
       "      <td>PAYMENT</td>\n",
       "      <td>COMPLETED</td>\n",
       "      <td>초격차 패키지 : 한번에 끝내는 영상 촬영과 편집</td>\n",
       "      <td>영상/3D</td>\n",
       "      <td>올인원</td>\n",
       "      <td>149000</td>\n",
       "      <td>NaN</td>\n",
       "      <td>NaN</td>\n",
       "      <td>149000.0</td>\n",
       "      <td>2021-09-25 13:46:29</td>\n",
       "      <td>9</td>\n",
       "      <td>0</td>\n",
       "      <td>토요일</td>\n",
       "      <td>13</td>\n",
       "    </tr>\n",
       "    <tr>\n",
       "      <th>105413</th>\n",
       "      <td>1364991</td>\n",
       "      <td>670891.0</td>\n",
       "      <td>203935.0</td>\n",
       "      <td>PAYMENT</td>\n",
       "      <td>COMPLETED</td>\n",
       "      <td>초격차 패키지 : 한 번에 끝내는 파이썬 웹 개발</td>\n",
       "      <td>프로그래밍</td>\n",
       "      <td>올인원</td>\n",
       "      <td>159000</td>\n",
       "      <td>[미래투자금] 온라인 강의 2만원 할인쿠폰</td>\n",
       "      <td>20000.0</td>\n",
       "      <td>179000.0</td>\n",
       "      <td>2021-09-25 14:01:26</td>\n",
       "      <td>9</td>\n",
       "      <td>1</td>\n",
       "      <td>토요일</td>\n",
       "      <td>14</td>\n",
       "    </tr>\n",
       "    <tr>\n",
       "      <th>105416</th>\n",
       "      <td>1364996</td>\n",
       "      <td>640697.0</td>\n",
       "      <td>205365.0</td>\n",
       "      <td>PAYMENT</td>\n",
       "      <td>COMPLETED</td>\n",
       "      <td>초격차 패키지 : 한 번에 끝내는 유튜브 크리에이터 되기</td>\n",
       "      <td>영상/3D</td>\n",
       "      <td>올인원</td>\n",
       "      <td>96000</td>\n",
       "      <td>[WELCOME] 온라인 강의 2만원 할인쿠폰</td>\n",
       "      <td>20000.0</td>\n",
       "      <td>116000.0</td>\n",
       "      <td>2021-09-25 14:17:41</td>\n",
       "      <td>9</td>\n",
       "      <td>1</td>\n",
       "      <td>토요일</td>\n",
       "      <td>14</td>\n",
       "    </tr>\n",
       "  </tbody>\n",
       "</table>\n",
       "<p>41513 rows × 17 columns</p>\n",
       "</div>"
      ],
      "text/plain": [
       "             id  customer_id  course_id     type      state  \\\n",
       "4        970658     478028.0   201797.0  PAYMENT  COMPLETED   \n",
       "8        970669     478033.0   203178.0  PAYMENT  COMPLETED   \n",
       "10       970671     469860.0   203644.0  PAYMENT  COMPLETED   \n",
       "14       970676     478035.0   203720.0  PAYMENT  COMPLETED   \n",
       "28       970704     471759.0   204068.0  PAYMENT  COMPLETED   \n",
       "...         ...          ...        ...      ...        ...   \n",
       "105406  1364929     120686.0   111111.0  PAYMENT  COMPLETED   \n",
       "105411  1364969     669238.0   204286.0  PAYMENT  COMPLETED   \n",
       "105412  1364976     384003.0   203178.0  PAYMENT  COMPLETED   \n",
       "105413  1364991     670891.0   203935.0  PAYMENT  COMPLETED   \n",
       "105416  1364996     640697.0   205365.0  PAYMENT  COMPLETED   \n",
       "\n",
       "                                          course_title category_title format  \\\n",
       "4                        올인원 패키지 : 직장인 필수 스킬 3종 세트 MAX         업무 생산성    올인원   \n",
       "8                          초격차 패키지 : 한번에 끝내는 영상 촬영과 편집          영상/3D    올인원   \n",
       "10      올인원 패키지 : 권오상의 금융 아카데미 - 권오상의 재무제표 분석 기초(평생소장)         부동산/금융    올인원   \n",
       "14                         초격차 패키지 : 한 번에 끝내는 프론트엔드 개발          프로그래밍    올인원   \n",
       "28                          올인원 패키지 : 마디아의 UX/UI 포트폴리오            디자인    올인원   \n",
       "...                                                ...            ...    ...   \n",
       "105406                      [한정판매] 자연어 A-Z 끝장 패키지(~9월)        데이터사이언스    올인원   \n",
       "105411                      초격차 패키지 : 한번에 끝내는 3D 디자인 툴            디자인    올인원   \n",
       "105412                     초격차 패키지 : 한번에 끝내는 영상 촬영과 편집          영상/3D    올인원   \n",
       "105413                     초격차 패키지 : 한 번에 끝내는 파이썬 웹 개발          프로그래밍    올인원   \n",
       "105416                 초격차 패키지 : 한 번에 끝내는 유튜브 크리에이터 되기          영상/3D    올인원   \n",
       "\n",
       "        transaction_amount               coupon_title  coupon_discount_amount  \\\n",
       "4                    97500   [웰컴쿠폰] 올인원 패키지 2만원 할인 쿠폰                 20000.0   \n",
       "8                    96000   [웰컴쿠폰] 올인원 패키지 2만원 할인 쿠폰                 20000.0   \n",
       "10                  263000                        NaN                     NaN   \n",
       "14                   91000   [웰컴쿠폰] 올인원 패키지 2만원 할인 쿠폰                 20000.0   \n",
       "28                   89000   [웰컴쿠폰] 올인원 패키지 1만원 할인 쿠폰                 10000.0   \n",
       "...                    ...                        ...                     ...   \n",
       "105406              481000                        NaN                     NaN   \n",
       "105411              212000    [미래투자금] 온라인 강의 2만원 할인쿠폰                 20000.0   \n",
       "105412              149000                        NaN                     NaN   \n",
       "105413              159000    [미래투자금] 온라인 강의 2만원 할인쿠폰                 20000.0   \n",
       "105416               96000  [WELCOME] 온라인 강의 2만원 할인쿠폰                 20000.0   \n",
       "\n",
       "        sale_price        completed_at completed_at_month  is_coupon  \\\n",
       "4         117500.0 2021-03-28 15:21:54                  3          1   \n",
       "8         116000.0 2021-03-28 15:26:47                  3          1   \n",
       "10        263000.0 2021-03-28 15:27:17                  3          0   \n",
       "14        111000.0 2021-03-28 15:31:01                  3          1   \n",
       "28         99000.0 2021-03-28 15:46:22                  3          1   \n",
       "...            ...                 ...                ...        ...   \n",
       "105406    481000.0 2021-09-25 12:29:39                  9          0   \n",
       "105411    232000.0 2021-09-25 13:39:26                  9          1   \n",
       "105412    149000.0 2021-09-25 13:46:29                  9          0   \n",
       "105413    179000.0 2021-09-25 14:01:26                  9          1   \n",
       "105416    116000.0 2021-09-25 14:17:41                  9          1   \n",
       "\n",
       "       completed_at_day completed_at_hour  \n",
       "4                   일요일                15  \n",
       "8                   일요일                15  \n",
       "10                  일요일                15  \n",
       "14                  일요일                15  \n",
       "28                  일요일                15  \n",
       "...                 ...               ...  \n",
       "105406              토요일                12  \n",
       "105411              토요일                13  \n",
       "105412              토요일                13  \n",
       "105413              토요일                14  \n",
       "105416              토요일                14  \n",
       "\n",
       "[41513 rows x 17 columns]"
      ]
     },
     "execution_count": 166,
     "metadata": {},
     "output_type": "execute_result"
    }
   ],
   "source": [
    "df_complete[df_complete.course_title.str.contains('패키지', na=True)]"
   ]
  },
  {
   "cell_type": "code",
   "execution_count": 170,
   "id": "853cac88",
   "metadata": {
    "ExecuteTime": {
     "end_time": "2022-05-18T01:45:40.944367Z",
     "start_time": "2022-05-18T01:45:40.918404Z"
    }
   },
   "outputs": [
    {
     "data": {
      "text/plain": [
       "올인원    46554\n",
       "Name: format, dtype: int64"
      ]
     },
     "execution_count": 170,
     "metadata": {},
     "output_type": "execute_result"
    }
   ],
   "source": [
    "df_complete[df_complete.format=='올인원']['format'].value_counts()"
   ]
  }
 ],
 "metadata": {
  "kernelspec": {
   "display_name": "Python 3 (ipykernel)",
   "language": "python",
   "name": "python3"
  },
  "language_info": {
   "codemirror_mode": {
    "name": "ipython",
    "version": 3
   },
   "file_extension": ".py",
   "mimetype": "text/x-python",
   "name": "python",
   "nbconvert_exporter": "python",
   "pygments_lexer": "ipython3",
   "version": "3.8.13"
  },
  "toc": {
   "base_numbering": 1,
   "nav_menu": {},
   "number_sections": true,
   "sideBar": true,
   "skip_h1_title": false,
   "title_cell": "Table of Contents",
   "title_sidebar": "Contents",
   "toc_cell": false,
   "toc_position": {},
   "toc_section_display": true,
   "toc_window_display": false
  },
  "varInspector": {
   "cols": {
    "lenName": 16,
    "lenType": 16,
    "lenVar": 40
   },
   "kernels_config": {
    "python": {
     "delete_cmd_postfix": "",
     "delete_cmd_prefix": "del ",
     "library": "var_list.py",
     "varRefreshCmd": "print(var_dic_list())"
    },
    "r": {
     "delete_cmd_postfix": ") ",
     "delete_cmd_prefix": "rm(",
     "library": "var_list.r",
     "varRefreshCmd": "cat(var_dic_list()) "
    }
   },
   "types_to_exclude": [
    "module",
    "function",
    "builtin_function_or_method",
    "instance",
    "_Feature"
   ],
   "window_display": false
  }
 },
 "nbformat": 4,
 "nbformat_minor": 5
}
